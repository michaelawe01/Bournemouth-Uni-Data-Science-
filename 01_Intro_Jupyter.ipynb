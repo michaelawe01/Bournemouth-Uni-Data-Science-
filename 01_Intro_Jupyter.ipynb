{
  "cells": [
    {
      "cell_type": "markdown",
      "metadata": {
        "id": "view-in-github",
        "colab_type": "text"
      },
      "source": [
        "<a href=\"https://colab.research.google.com/github/michaelawe01/Bournemouth-Uni-Data-Science-/blob/main/01_Intro_Jupyter.ipynb\" target=\"_parent\"><img src=\"https://colab.research.google.com/assets/colab-badge.svg\" alt=\"Open In Colab\"/></a>"
      ]
    },
    {
      "cell_type": "markdown",
      "metadata": {
        "id": "-sGLcygLh4_a"
      },
      "source": [
        "# Jupyter Notebooks basics"
      ]
    },
    {
      "cell_type": "markdown",
      "metadata": {
        "id": "EUH_mUk1h4_h"
      },
      "source": [
        "The Jupyter is an open-source web application that allows you to create and share documents that contain live code, equations, visualizations and narrative text. Uses include:\n",
        "- data cleaning and transformation,\n",
        "- numerical simulation,\n",
        "- statistical modeling,\n",
        "- data visualization,\n",
        "- machine learning,\n",
        "- ...and much more!"
      ]
    },
    {
      "cell_type": "markdown",
      "metadata": {
        "id": "CS7CY-G-h4_i"
      },
      "source": [
        "## Intro"
      ]
    },
    {
      "cell_type": "markdown",
      "metadata": {
        "id": "qoMKKLJvh4_j"
      },
      "source": [
        "Jupyter Notebook is a document made of cells. You can write text, include images (**markdown cells**) or you can perform calculations in any of the supported languages (**code cells**). We will be using Python. You can run the calculations like this:"
      ]
    },
    {
      "cell_type": "code",
      "source": [
        "1+1"
      ],
      "metadata": {
        "id": "W9kyoHYOh4_k"
      },
      "execution_count": null,
      "outputs": []
    },
    {
      "cell_type": "markdown",
      "metadata": {
        "id": "QXekHm4dh4_n"
      },
      "source": [
        "The combination of documentation and code makes Jupyter Notebook ideal for experimentation: we can see the rationale for each experiment, the code and the results in one comprehensive document. Many renowned institutions use Jupyter Notebooks: Google, Microsoft, IBM, Bloomberg, Berkeley and NASA among others. Some even suggest that Jupyter Notebooks will be the [new format for research papers](https://www.theatlantic.com/science/archive/2018/04/the-scientific-paper-is-obsolete/556676/)."
      ]
    },
    {
      "cell_type": "markdown",
      "metadata": {
        "ExecuteTime": {
          "end_time": "2020-02-03T09:39:25.194888Z",
          "start_time": "2020-02-03T09:39:25.190926Z"
        },
        "id": "P8QttiAch4_o"
      },
      "source": [
        "## Writing"
      ]
    },
    {
      "cell_type": "markdown",
      "source": [
        "The cells in which you can write are called [**Markdown**](https://en.wikipedia.org/wiki/Markdown), a popular markup language. To specify that a cell is **Markdown** you can create it as a `text` cell or press <kbd>Ctrl+M M</kbd> (<kbd>Ctrl+M Y</kbd> changes it to code cell)."
      ],
      "metadata": {
        "id": "E2nVBevth4_p"
      }
    },
    {
      "cell_type": "markdown",
      "metadata": {
        "id": "TBWL0nhAh4_q"
      },
      "source": [
        "To add a new cell to the Notebook, you need to click the '+ Code' or '+ Text' button at the bottom of an existing cell."
      ]
    },
    {
      "cell_type": "markdown",
      "metadata": {
        "id": "bUdG0OFYh4_t"
      },
      "source": [
        "If you make a mistake in your **Markdown** cell and you have already ran it, you will notice that you cannot edit it just by clicking on it. This is because you are in **Command Mode**. Jupyter Notebooks have two distinct modes:\n",
        "\n",
        "1. **Edit Mode**: Allows you to edit a cell's content.\n",
        "\n",
        "2. **Command Mode**: Allows you to edit the notebook as a whole and use keyboard shortcuts but not edit a cell's content.\n",
        "\n",
        "You can toggle between these two by either pressing <kbd>Esc</kbd> and <kbd>Enter</kbd> or clicking outside a cell or inside it (you need to double click if its a Markdown cell).\n",
        "\n",
        "You can find a handy markdown cheat sheet [here](https://github.com/adam-p/markdown-here/wiki/Markdown-Cheatsheet)."
      ]
    },
    {
      "cell_type": "markdown",
      "metadata": {
        "id": "bAwjwsWYh4_t"
      },
      "source": [
        "## Other important bits"
      ]
    },
    {
      "cell_type": "markdown",
      "metadata": {
        "id": "lxe54EKmh4_u"
      },
      "source": [
        "1. Your notebook is autosaved but you can also save it manually by pressing the <kbd>Ctrl+S</kbd> or using the menu."
      ]
    },
    {
      "cell_type": "markdown",
      "metadata": {
        "id": "w32zKfAfh4_u"
      },
      "source": [
        "2. Your notebook doesn't perform any computations, it instead submits them to the **kernel**. You can think of the kernel as the Python interpreter in the backend, which performs requested calculations and returns the results. You can see if the kernel is busy working or not by looking at the dot in your bottom right corner."
      ]
    },
    {
      "cell_type": "markdown",
      "metadata": {
        "id": "7BUGbq0Zh4_v"
      },
      "source": [
        "3. There are some shortcuts you must know about which you will use **all** the time (always in **Command Mode**). These are:\n",
        "\n",
        "\n",
        "> <kbd>Shift</kbd>+<kbd>Enter</kbd> - Runs the code or markdown in the current cell\n",
        "\n",
        "> <kbd>Up Arrow</kbd> and <kbd>Down Arrow</kbd> - Move across cells\n",
        "\n",
        "> <kbd>a</kbd> and <kbd>b</kbd> - Create new cell **A**bove or **B**elow the current cell\n",
        "\n",
        "> <kbd>Ctrl+M .</kbd> - Reset Kernel"
      ]
    },
    {
      "cell_type": "code",
      "execution_count": null,
      "metadata": {
        "ExecuteTime": {
          "end_time": "2021-02-08T08:42:21.545477Z",
          "start_time": "2021-02-08T08:42:21.525234Z"
        },
        "id": "WIgCZ4TRh4_v",
        "colab": {
          "base_uri": "https://localhost:8080/"
        },
        "outputId": "67ab194c-c120-4d6d-cba0-1e55ebf0a4b4"
      },
      "outputs": [
        {
          "output_type": "stream",
          "name": "stdout",
          "text": [
            "Hello\n"
          ]
        }
      ],
      "source": [
        "print('Hello')"
      ]
    },
    {
      "cell_type": "markdown",
      "metadata": {
        "heading_collapsed": true,
        "id": "JTiPxRvkh4_w"
      },
      "source": [
        "# The slighlty more advanced stuff"
      ]
    },
    {
      "cell_type": "markdown",
      "metadata": {
        "hidden": true,
        "id": "Qw81f05lh4_w"
      },
      "source": [
        "## Code Capabilities"
      ]
    },
    {
      "cell_type": "markdown",
      "metadata": {
        "hidden": true,
        "id": "OrwResRCh4_x"
      },
      "source": [
        "**Code** cells are different than **Markdown** cells in that they have an output cell. This means that we can _keep_ the results of our code within the notebook and share them. All you need to do is to run the necessary cells and save the notebook. The output will be there when you open it again."
      ]
    },
    {
      "cell_type": "code",
      "execution_count": null,
      "metadata": {
        "ExecuteTime": {
          "end_time": "2021-02-08T08:42:21.987152Z",
          "start_time": "2021-02-08T08:42:21.547600Z"
        },
        "hidden": true,
        "id": "eSXZXPUth4_x"
      },
      "outputs": [],
      "source": [
        "# Import necessary libraries\n",
        "import pandas as pd\n",
        "import matplotlib.pyplot as plt"
      ]
    },
    {
      "cell_type": "code",
      "source": [
        "# download a csv file directly into a Pandas dataframe\n",
        "df = pd.read_csv('https://drive.google.com/uc?export=download&id=1DTRHYA4esTkm_J1Qbp4_FnBLvCMrwyis')"
      ],
      "metadata": {
        "id": "9XjC06MNzbAI"
      },
      "execution_count": null,
      "outputs": []
    },
    {
      "cell_type": "code",
      "execution_count": null,
      "metadata": {
        "ExecuteTime": {
          "end_time": "2021-02-08T08:42:22.572819Z",
          "start_time": "2021-02-08T08:42:22.535748Z"
        },
        "hidden": true,
        "id": "w0mAA7Ifh4_y",
        "colab": {
          "base_uri": "https://localhost:8080/",
          "height": 206
        },
        "outputId": "c01a097a-b29f-45d1-dadf-0c107115f521"
      },
      "outputs": [
        {
          "output_type": "execute_result",
          "data": {
            "text/plain": [
              "     outlook  temperature  humidity  windy play\n",
              "9      rainy           75        80  False  yes\n",
              "10     sunny           75        70   True  yes\n",
              "11  overcast           72        90   True  yes\n",
              "12  overcast           81        75  False  yes\n",
              "13     rainy           71        91   True   no"
            ],
            "text/html": [
              "\n",
              "  <div id=\"df-48a14bab-aac7-49e4-8689-a622a79963cd\" class=\"colab-df-container\">\n",
              "    <div>\n",
              "<style scoped>\n",
              "    .dataframe tbody tr th:only-of-type {\n",
              "        vertical-align: middle;\n",
              "    }\n",
              "\n",
              "    .dataframe tbody tr th {\n",
              "        vertical-align: top;\n",
              "    }\n",
              "\n",
              "    .dataframe thead th {\n",
              "        text-align: right;\n",
              "    }\n",
              "</style>\n",
              "<table border=\"1\" class=\"dataframe\">\n",
              "  <thead>\n",
              "    <tr style=\"text-align: right;\">\n",
              "      <th></th>\n",
              "      <th>outlook</th>\n",
              "      <th>temperature</th>\n",
              "      <th>humidity</th>\n",
              "      <th>windy</th>\n",
              "      <th>play</th>\n",
              "    </tr>\n",
              "  </thead>\n",
              "  <tbody>\n",
              "    <tr>\n",
              "      <th>9</th>\n",
              "      <td>rainy</td>\n",
              "      <td>75</td>\n",
              "      <td>80</td>\n",
              "      <td>False</td>\n",
              "      <td>yes</td>\n",
              "    </tr>\n",
              "    <tr>\n",
              "      <th>10</th>\n",
              "      <td>sunny</td>\n",
              "      <td>75</td>\n",
              "      <td>70</td>\n",
              "      <td>True</td>\n",
              "      <td>yes</td>\n",
              "    </tr>\n",
              "    <tr>\n",
              "      <th>11</th>\n",
              "      <td>overcast</td>\n",
              "      <td>72</td>\n",
              "      <td>90</td>\n",
              "      <td>True</td>\n",
              "      <td>yes</td>\n",
              "    </tr>\n",
              "    <tr>\n",
              "      <th>12</th>\n",
              "      <td>overcast</td>\n",
              "      <td>81</td>\n",
              "      <td>75</td>\n",
              "      <td>False</td>\n",
              "      <td>yes</td>\n",
              "    </tr>\n",
              "    <tr>\n",
              "      <th>13</th>\n",
              "      <td>rainy</td>\n",
              "      <td>71</td>\n",
              "      <td>91</td>\n",
              "      <td>True</td>\n",
              "      <td>no</td>\n",
              "    </tr>\n",
              "  </tbody>\n",
              "</table>\n",
              "</div>\n",
              "    <div class=\"colab-df-buttons\">\n",
              "\n",
              "  <div class=\"colab-df-container\">\n",
              "    <button class=\"colab-df-convert\" onclick=\"convertToInteractive('df-48a14bab-aac7-49e4-8689-a622a79963cd')\"\n",
              "            title=\"Convert this dataframe to an interactive table.\"\n",
              "            style=\"display:none;\">\n",
              "\n",
              "  <svg xmlns=\"http://www.w3.org/2000/svg\" height=\"24px\" viewBox=\"0 -960 960 960\">\n",
              "    <path d=\"M120-120v-720h720v720H120Zm60-500h600v-160H180v160Zm220 220h160v-160H400v160Zm0 220h160v-160H400v160ZM180-400h160v-160H180v160Zm440 0h160v-160H620v160ZM180-180h160v-160H180v160Zm440 0h160v-160H620v160Z\"/>\n",
              "  </svg>\n",
              "    </button>\n",
              "\n",
              "  <style>\n",
              "    .colab-df-container {\n",
              "      display:flex;\n",
              "      gap: 12px;\n",
              "    }\n",
              "\n",
              "    .colab-df-convert {\n",
              "      background-color: #E8F0FE;\n",
              "      border: none;\n",
              "      border-radius: 50%;\n",
              "      cursor: pointer;\n",
              "      display: none;\n",
              "      fill: #1967D2;\n",
              "      height: 32px;\n",
              "      padding: 0 0 0 0;\n",
              "      width: 32px;\n",
              "    }\n",
              "\n",
              "    .colab-df-convert:hover {\n",
              "      background-color: #E2EBFA;\n",
              "      box-shadow: 0px 1px 2px rgba(60, 64, 67, 0.3), 0px 1px 3px 1px rgba(60, 64, 67, 0.15);\n",
              "      fill: #174EA6;\n",
              "    }\n",
              "\n",
              "    .colab-df-buttons div {\n",
              "      margin-bottom: 4px;\n",
              "    }\n",
              "\n",
              "    [theme=dark] .colab-df-convert {\n",
              "      background-color: #3B4455;\n",
              "      fill: #D2E3FC;\n",
              "    }\n",
              "\n",
              "    [theme=dark] .colab-df-convert:hover {\n",
              "      background-color: #434B5C;\n",
              "      box-shadow: 0px 1px 3px 1px rgba(0, 0, 0, 0.15);\n",
              "      filter: drop-shadow(0px 1px 2px rgba(0, 0, 0, 0.3));\n",
              "      fill: #FFFFFF;\n",
              "    }\n",
              "  </style>\n",
              "\n",
              "    <script>\n",
              "      const buttonEl =\n",
              "        document.querySelector('#df-48a14bab-aac7-49e4-8689-a622a79963cd button.colab-df-convert');\n",
              "      buttonEl.style.display =\n",
              "        google.colab.kernel.accessAllowed ? 'block' : 'none';\n",
              "\n",
              "      async function convertToInteractive(key) {\n",
              "        const element = document.querySelector('#df-48a14bab-aac7-49e4-8689-a622a79963cd');\n",
              "        const dataTable =\n",
              "          await google.colab.kernel.invokeFunction('convertToInteractive',\n",
              "                                                    [key], {});\n",
              "        if (!dataTable) return;\n",
              "\n",
              "        const docLinkHtml = 'Like what you see? Visit the ' +\n",
              "          '<a target=\"_blank\" href=https://colab.research.google.com/notebooks/data_table.ipynb>data table notebook</a>'\n",
              "          + ' to learn more about interactive tables.';\n",
              "        element.innerHTML = '';\n",
              "        dataTable['output_type'] = 'display_data';\n",
              "        await google.colab.output.renderOutput(dataTable, element);\n",
              "        const docLink = document.createElement('div');\n",
              "        docLink.innerHTML = docLinkHtml;\n",
              "        element.appendChild(docLink);\n",
              "      }\n",
              "    </script>\n",
              "  </div>\n",
              "\n",
              "\n",
              "<div id=\"df-7b38b3da-96dd-43f2-bacf-e7e21fed1118\">\n",
              "  <button class=\"colab-df-quickchart\" onclick=\"quickchart('df-7b38b3da-96dd-43f2-bacf-e7e21fed1118')\"\n",
              "            title=\"Suggest charts\"\n",
              "            style=\"display:none;\">\n",
              "\n",
              "<svg xmlns=\"http://www.w3.org/2000/svg\" height=\"24px\"viewBox=\"0 0 24 24\"\n",
              "     width=\"24px\">\n",
              "    <g>\n",
              "        <path d=\"M19 3H5c-1.1 0-2 .9-2 2v14c0 1.1.9 2 2 2h14c1.1 0 2-.9 2-2V5c0-1.1-.9-2-2-2zM9 17H7v-7h2v7zm4 0h-2V7h2v10zm4 0h-2v-4h2v4z\"/>\n",
              "    </g>\n",
              "</svg>\n",
              "  </button>\n",
              "\n",
              "<style>\n",
              "  .colab-df-quickchart {\n",
              "      --bg-color: #E8F0FE;\n",
              "      --fill-color: #1967D2;\n",
              "      --hover-bg-color: #E2EBFA;\n",
              "      --hover-fill-color: #174EA6;\n",
              "      --disabled-fill-color: #AAA;\n",
              "      --disabled-bg-color: #DDD;\n",
              "  }\n",
              "\n",
              "  [theme=dark] .colab-df-quickchart {\n",
              "      --bg-color: #3B4455;\n",
              "      --fill-color: #D2E3FC;\n",
              "      --hover-bg-color: #434B5C;\n",
              "      --hover-fill-color: #FFFFFF;\n",
              "      --disabled-bg-color: #3B4455;\n",
              "      --disabled-fill-color: #666;\n",
              "  }\n",
              "\n",
              "  .colab-df-quickchart {\n",
              "    background-color: var(--bg-color);\n",
              "    border: none;\n",
              "    border-radius: 50%;\n",
              "    cursor: pointer;\n",
              "    display: none;\n",
              "    fill: var(--fill-color);\n",
              "    height: 32px;\n",
              "    padding: 0;\n",
              "    width: 32px;\n",
              "  }\n",
              "\n",
              "  .colab-df-quickchart:hover {\n",
              "    background-color: var(--hover-bg-color);\n",
              "    box-shadow: 0 1px 2px rgba(60, 64, 67, 0.3), 0 1px 3px 1px rgba(60, 64, 67, 0.15);\n",
              "    fill: var(--button-hover-fill-color);\n",
              "  }\n",
              "\n",
              "  .colab-df-quickchart-complete:disabled,\n",
              "  .colab-df-quickchart-complete:disabled:hover {\n",
              "    background-color: var(--disabled-bg-color);\n",
              "    fill: var(--disabled-fill-color);\n",
              "    box-shadow: none;\n",
              "  }\n",
              "\n",
              "  .colab-df-spinner {\n",
              "    border: 2px solid var(--fill-color);\n",
              "    border-color: transparent;\n",
              "    border-bottom-color: var(--fill-color);\n",
              "    animation:\n",
              "      spin 1s steps(1) infinite;\n",
              "  }\n",
              "\n",
              "  @keyframes spin {\n",
              "    0% {\n",
              "      border-color: transparent;\n",
              "      border-bottom-color: var(--fill-color);\n",
              "      border-left-color: var(--fill-color);\n",
              "    }\n",
              "    20% {\n",
              "      border-color: transparent;\n",
              "      border-left-color: var(--fill-color);\n",
              "      border-top-color: var(--fill-color);\n",
              "    }\n",
              "    30% {\n",
              "      border-color: transparent;\n",
              "      border-left-color: var(--fill-color);\n",
              "      border-top-color: var(--fill-color);\n",
              "      border-right-color: var(--fill-color);\n",
              "    }\n",
              "    40% {\n",
              "      border-color: transparent;\n",
              "      border-right-color: var(--fill-color);\n",
              "      border-top-color: var(--fill-color);\n",
              "    }\n",
              "    60% {\n",
              "      border-color: transparent;\n",
              "      border-right-color: var(--fill-color);\n",
              "    }\n",
              "    80% {\n",
              "      border-color: transparent;\n",
              "      border-right-color: var(--fill-color);\n",
              "      border-bottom-color: var(--fill-color);\n",
              "    }\n",
              "    90% {\n",
              "      border-color: transparent;\n",
              "      border-bottom-color: var(--fill-color);\n",
              "    }\n",
              "  }\n",
              "</style>\n",
              "\n",
              "  <script>\n",
              "    async function quickchart(key) {\n",
              "      const quickchartButtonEl =\n",
              "        document.querySelector('#' + key + ' button');\n",
              "      quickchartButtonEl.disabled = true;  // To prevent multiple clicks.\n",
              "      quickchartButtonEl.classList.add('colab-df-spinner');\n",
              "      try {\n",
              "        const charts = await google.colab.kernel.invokeFunction(\n",
              "            'suggestCharts', [key], {});\n",
              "      } catch (error) {\n",
              "        console.error('Error during call to suggestCharts:', error);\n",
              "      }\n",
              "      quickchartButtonEl.classList.remove('colab-df-spinner');\n",
              "      quickchartButtonEl.classList.add('colab-df-quickchart-complete');\n",
              "    }\n",
              "    (() => {\n",
              "      let quickchartButtonEl =\n",
              "        document.querySelector('#df-7b38b3da-96dd-43f2-bacf-e7e21fed1118 button');\n",
              "      quickchartButtonEl.style.display =\n",
              "        google.colab.kernel.accessAllowed ? 'block' : 'none';\n",
              "    })();\n",
              "  </script>\n",
              "</div>\n",
              "    </div>\n",
              "  </div>\n"
            ]
          },
          "metadata": {},
          "execution_count": 9
        }
      ],
      "source": [
        "# Show the first 5 rows of the data\n",
        "df.head()"
      ]
    },
    {
      "cell_type": "code",
      "execution_count": null,
      "metadata": {
        "ExecuteTime": {
          "end_time": "2021-02-08T08:42:23.095582Z",
          "start_time": "2021-02-08T08:42:23.079483Z"
        },
        "hidden": true,
        "id": "Hhqs1ICbh4_z",
        "colab": {
          "base_uri": "https://localhost:8080/",
          "height": 394
        },
        "outputId": "c3e82472-c8f5-492a-f184-b54a9ac20920"
      },
      "outputs": [
        {
          "output_type": "execute_result",
          "data": {
            "text/plain": [
              "       outlook  temperature   humidity  windy play\n",
              "count       14    14.000000  14.000000     14   14\n",
              "unique       3          NaN        NaN      2    2\n",
              "top      sunny          NaN        NaN  False  yes\n",
              "freq         5          NaN        NaN      8    9\n",
              "mean       NaN    73.571429  81.642857    NaN  NaN\n",
              "std        NaN     6.571667  10.285218    NaN  NaN\n",
              "min        NaN    64.000000  65.000000    NaN  NaN\n",
              "25%        NaN    69.250000  71.250000    NaN  NaN\n",
              "50%        NaN    72.000000  82.500000    NaN  NaN\n",
              "75%        NaN    78.750000  90.000000    NaN  NaN\n",
              "max        NaN    85.000000  96.000000    NaN  NaN"
            ],
            "text/html": [
              "\n",
              "  <div id=\"df-2c0b211c-3e73-4650-b5d2-6174dfe2b92f\" class=\"colab-df-container\">\n",
              "    <div>\n",
              "<style scoped>\n",
              "    .dataframe tbody tr th:only-of-type {\n",
              "        vertical-align: middle;\n",
              "    }\n",
              "\n",
              "    .dataframe tbody tr th {\n",
              "        vertical-align: top;\n",
              "    }\n",
              "\n",
              "    .dataframe thead th {\n",
              "        text-align: right;\n",
              "    }\n",
              "</style>\n",
              "<table border=\"1\" class=\"dataframe\">\n",
              "  <thead>\n",
              "    <tr style=\"text-align: right;\">\n",
              "      <th></th>\n",
              "      <th>outlook</th>\n",
              "      <th>temperature</th>\n",
              "      <th>humidity</th>\n",
              "      <th>windy</th>\n",
              "      <th>play</th>\n",
              "    </tr>\n",
              "  </thead>\n",
              "  <tbody>\n",
              "    <tr>\n",
              "      <th>count</th>\n",
              "      <td>14</td>\n",
              "      <td>14.000000</td>\n",
              "      <td>14.000000</td>\n",
              "      <td>14</td>\n",
              "      <td>14</td>\n",
              "    </tr>\n",
              "    <tr>\n",
              "      <th>unique</th>\n",
              "      <td>3</td>\n",
              "      <td>NaN</td>\n",
              "      <td>NaN</td>\n",
              "      <td>2</td>\n",
              "      <td>2</td>\n",
              "    </tr>\n",
              "    <tr>\n",
              "      <th>top</th>\n",
              "      <td>sunny</td>\n",
              "      <td>NaN</td>\n",
              "      <td>NaN</td>\n",
              "      <td>False</td>\n",
              "      <td>yes</td>\n",
              "    </tr>\n",
              "    <tr>\n",
              "      <th>freq</th>\n",
              "      <td>5</td>\n",
              "      <td>NaN</td>\n",
              "      <td>NaN</td>\n",
              "      <td>8</td>\n",
              "      <td>9</td>\n",
              "    </tr>\n",
              "    <tr>\n",
              "      <th>mean</th>\n",
              "      <td>NaN</td>\n",
              "      <td>73.571429</td>\n",
              "      <td>81.642857</td>\n",
              "      <td>NaN</td>\n",
              "      <td>NaN</td>\n",
              "    </tr>\n",
              "    <tr>\n",
              "      <th>std</th>\n",
              "      <td>NaN</td>\n",
              "      <td>6.571667</td>\n",
              "      <td>10.285218</td>\n",
              "      <td>NaN</td>\n",
              "      <td>NaN</td>\n",
              "    </tr>\n",
              "    <tr>\n",
              "      <th>min</th>\n",
              "      <td>NaN</td>\n",
              "      <td>64.000000</td>\n",
              "      <td>65.000000</td>\n",
              "      <td>NaN</td>\n",
              "      <td>NaN</td>\n",
              "    </tr>\n",
              "    <tr>\n",
              "      <th>25%</th>\n",
              "      <td>NaN</td>\n",
              "      <td>69.250000</td>\n",
              "      <td>71.250000</td>\n",
              "      <td>NaN</td>\n",
              "      <td>NaN</td>\n",
              "    </tr>\n",
              "    <tr>\n",
              "      <th>50%</th>\n",
              "      <td>NaN</td>\n",
              "      <td>72.000000</td>\n",
              "      <td>82.500000</td>\n",
              "      <td>NaN</td>\n",
              "      <td>NaN</td>\n",
              "    </tr>\n",
              "    <tr>\n",
              "      <th>75%</th>\n",
              "      <td>NaN</td>\n",
              "      <td>78.750000</td>\n",
              "      <td>90.000000</td>\n",
              "      <td>NaN</td>\n",
              "      <td>NaN</td>\n",
              "    </tr>\n",
              "    <tr>\n",
              "      <th>max</th>\n",
              "      <td>NaN</td>\n",
              "      <td>85.000000</td>\n",
              "      <td>96.000000</td>\n",
              "      <td>NaN</td>\n",
              "      <td>NaN</td>\n",
              "    </tr>\n",
              "  </tbody>\n",
              "</table>\n",
              "</div>\n",
              "    <div class=\"colab-df-buttons\">\n",
              "\n",
              "  <div class=\"colab-df-container\">\n",
              "    <button class=\"colab-df-convert\" onclick=\"convertToInteractive('df-2c0b211c-3e73-4650-b5d2-6174dfe2b92f')\"\n",
              "            title=\"Convert this dataframe to an interactive table.\"\n",
              "            style=\"display:none;\">\n",
              "\n",
              "  <svg xmlns=\"http://www.w3.org/2000/svg\" height=\"24px\" viewBox=\"0 -960 960 960\">\n",
              "    <path d=\"M120-120v-720h720v720H120Zm60-500h600v-160H180v160Zm220 220h160v-160H400v160Zm0 220h160v-160H400v160ZM180-400h160v-160H180v160Zm440 0h160v-160H620v160ZM180-180h160v-160H180v160Zm440 0h160v-160H620v160Z\"/>\n",
              "  </svg>\n",
              "    </button>\n",
              "\n",
              "  <style>\n",
              "    .colab-df-container {\n",
              "      display:flex;\n",
              "      gap: 12px;\n",
              "    }\n",
              "\n",
              "    .colab-df-convert {\n",
              "      background-color: #E8F0FE;\n",
              "      border: none;\n",
              "      border-radius: 50%;\n",
              "      cursor: pointer;\n",
              "      display: none;\n",
              "      fill: #1967D2;\n",
              "      height: 32px;\n",
              "      padding: 0 0 0 0;\n",
              "      width: 32px;\n",
              "    }\n",
              "\n",
              "    .colab-df-convert:hover {\n",
              "      background-color: #E2EBFA;\n",
              "      box-shadow: 0px 1px 2px rgba(60, 64, 67, 0.3), 0px 1px 3px 1px rgba(60, 64, 67, 0.15);\n",
              "      fill: #174EA6;\n",
              "    }\n",
              "\n",
              "    .colab-df-buttons div {\n",
              "      margin-bottom: 4px;\n",
              "    }\n",
              "\n",
              "    [theme=dark] .colab-df-convert {\n",
              "      background-color: #3B4455;\n",
              "      fill: #D2E3FC;\n",
              "    }\n",
              "\n",
              "    [theme=dark] .colab-df-convert:hover {\n",
              "      background-color: #434B5C;\n",
              "      box-shadow: 0px 1px 3px 1px rgba(0, 0, 0, 0.15);\n",
              "      filter: drop-shadow(0px 1px 2px rgba(0, 0, 0, 0.3));\n",
              "      fill: #FFFFFF;\n",
              "    }\n",
              "  </style>\n",
              "\n",
              "    <script>\n",
              "      const buttonEl =\n",
              "        document.querySelector('#df-2c0b211c-3e73-4650-b5d2-6174dfe2b92f button.colab-df-convert');\n",
              "      buttonEl.style.display =\n",
              "        google.colab.kernel.accessAllowed ? 'block' : 'none';\n",
              "\n",
              "      async function convertToInteractive(key) {\n",
              "        const element = document.querySelector('#df-2c0b211c-3e73-4650-b5d2-6174dfe2b92f');\n",
              "        const dataTable =\n",
              "          await google.colab.kernel.invokeFunction('convertToInteractive',\n",
              "                                                    [key], {});\n",
              "        if (!dataTable) return;\n",
              "\n",
              "        const docLinkHtml = 'Like what you see? Visit the ' +\n",
              "          '<a target=\"_blank\" href=https://colab.research.google.com/notebooks/data_table.ipynb>data table notebook</a>'\n",
              "          + ' to learn more about interactive tables.';\n",
              "        element.innerHTML = '';\n",
              "        dataTable['output_type'] = 'display_data';\n",
              "        await google.colab.output.renderOutput(dataTable, element);\n",
              "        const docLink = document.createElement('div');\n",
              "        docLink.innerHTML = docLinkHtml;\n",
              "        element.appendChild(docLink);\n",
              "      }\n",
              "    </script>\n",
              "  </div>\n",
              "\n",
              "\n",
              "<div id=\"df-61c84ac4-fa41-4b48-ae46-cb097a723609\">\n",
              "  <button class=\"colab-df-quickchart\" onclick=\"quickchart('df-61c84ac4-fa41-4b48-ae46-cb097a723609')\"\n",
              "            title=\"Suggest charts\"\n",
              "            style=\"display:none;\">\n",
              "\n",
              "<svg xmlns=\"http://www.w3.org/2000/svg\" height=\"24px\"viewBox=\"0 0 24 24\"\n",
              "     width=\"24px\">\n",
              "    <g>\n",
              "        <path d=\"M19 3H5c-1.1 0-2 .9-2 2v14c0 1.1.9 2 2 2h14c1.1 0 2-.9 2-2V5c0-1.1-.9-2-2-2zM9 17H7v-7h2v7zm4 0h-2V7h2v10zm4 0h-2v-4h2v4z\"/>\n",
              "    </g>\n",
              "</svg>\n",
              "  </button>\n",
              "\n",
              "<style>\n",
              "  .colab-df-quickchart {\n",
              "      --bg-color: #E8F0FE;\n",
              "      --fill-color: #1967D2;\n",
              "      --hover-bg-color: #E2EBFA;\n",
              "      --hover-fill-color: #174EA6;\n",
              "      --disabled-fill-color: #AAA;\n",
              "      --disabled-bg-color: #DDD;\n",
              "  }\n",
              "\n",
              "  [theme=dark] .colab-df-quickchart {\n",
              "      --bg-color: #3B4455;\n",
              "      --fill-color: #D2E3FC;\n",
              "      --hover-bg-color: #434B5C;\n",
              "      --hover-fill-color: #FFFFFF;\n",
              "      --disabled-bg-color: #3B4455;\n",
              "      --disabled-fill-color: #666;\n",
              "  }\n",
              "\n",
              "  .colab-df-quickchart {\n",
              "    background-color: var(--bg-color);\n",
              "    border: none;\n",
              "    border-radius: 50%;\n",
              "    cursor: pointer;\n",
              "    display: none;\n",
              "    fill: var(--fill-color);\n",
              "    height: 32px;\n",
              "    padding: 0;\n",
              "    width: 32px;\n",
              "  }\n",
              "\n",
              "  .colab-df-quickchart:hover {\n",
              "    background-color: var(--hover-bg-color);\n",
              "    box-shadow: 0 1px 2px rgba(60, 64, 67, 0.3), 0 1px 3px 1px rgba(60, 64, 67, 0.15);\n",
              "    fill: var(--button-hover-fill-color);\n",
              "  }\n",
              "\n",
              "  .colab-df-quickchart-complete:disabled,\n",
              "  .colab-df-quickchart-complete:disabled:hover {\n",
              "    background-color: var(--disabled-bg-color);\n",
              "    fill: var(--disabled-fill-color);\n",
              "    box-shadow: none;\n",
              "  }\n",
              "\n",
              "  .colab-df-spinner {\n",
              "    border: 2px solid var(--fill-color);\n",
              "    border-color: transparent;\n",
              "    border-bottom-color: var(--fill-color);\n",
              "    animation:\n",
              "      spin 1s steps(1) infinite;\n",
              "  }\n",
              "\n",
              "  @keyframes spin {\n",
              "    0% {\n",
              "      border-color: transparent;\n",
              "      border-bottom-color: var(--fill-color);\n",
              "      border-left-color: var(--fill-color);\n",
              "    }\n",
              "    20% {\n",
              "      border-color: transparent;\n",
              "      border-left-color: var(--fill-color);\n",
              "      border-top-color: var(--fill-color);\n",
              "    }\n",
              "    30% {\n",
              "      border-color: transparent;\n",
              "      border-left-color: var(--fill-color);\n",
              "      border-top-color: var(--fill-color);\n",
              "      border-right-color: var(--fill-color);\n",
              "    }\n",
              "    40% {\n",
              "      border-color: transparent;\n",
              "      border-right-color: var(--fill-color);\n",
              "      border-top-color: var(--fill-color);\n",
              "    }\n",
              "    60% {\n",
              "      border-color: transparent;\n",
              "      border-right-color: var(--fill-color);\n",
              "    }\n",
              "    80% {\n",
              "      border-color: transparent;\n",
              "      border-right-color: var(--fill-color);\n",
              "      border-bottom-color: var(--fill-color);\n",
              "    }\n",
              "    90% {\n",
              "      border-color: transparent;\n",
              "      border-bottom-color: var(--fill-color);\n",
              "    }\n",
              "  }\n",
              "</style>\n",
              "\n",
              "  <script>\n",
              "    async function quickchart(key) {\n",
              "      const quickchartButtonEl =\n",
              "        document.querySelector('#' + key + ' button');\n",
              "      quickchartButtonEl.disabled = true;  // To prevent multiple clicks.\n",
              "      quickchartButtonEl.classList.add('colab-df-spinner');\n",
              "      try {\n",
              "        const charts = await google.colab.kernel.invokeFunction(\n",
              "            'suggestCharts', [key], {});\n",
              "      } catch (error) {\n",
              "        console.error('Error during call to suggestCharts:', error);\n",
              "      }\n",
              "      quickchartButtonEl.classList.remove('colab-df-spinner');\n",
              "      quickchartButtonEl.classList.add('colab-df-quickchart-complete');\n",
              "    }\n",
              "    (() => {\n",
              "      let quickchartButtonEl =\n",
              "        document.querySelector('#df-61c84ac4-fa41-4b48-ae46-cb097a723609 button');\n",
              "      quickchartButtonEl.style.display =\n",
              "        google.colab.kernel.accessAllowed ? 'block' : 'none';\n",
              "    })();\n",
              "  </script>\n",
              "</div>\n",
              "    </div>\n",
              "  </div>\n"
            ]
          },
          "metadata": {},
          "execution_count": 10
        }
      ],
      "source": [
        "# Show data summary\n",
        "df.describe(include='all')"
      ]
    },
    {
      "cell_type": "code",
      "execution_count": null,
      "metadata": {
        "ExecuteTime": {
          "end_time": "2021-02-08T08:42:23.306763Z",
          "start_time": "2021-02-08T08:42:23.097576Z"
        },
        "hidden": true,
        "id": "JoX1VUJZh4_1",
        "colab": {
          "base_uri": "https://localhost:8080/",
          "height": 449
        },
        "outputId": "37833b7c-af2f-4b33-9783-77420aacf027"
      },
      "outputs": [
        {
          "output_type": "display_data",
          "data": {
            "text/plain": [
              "<Figure size 640x480 with 1 Axes>"
            ],
            "image/png": "[encoded data removed]"
          },
          "metadata": {}
        }
      ],
      "source": [
        "# Plot temperature vs humidity\n",
        "df.plot('temperature', 'humidity', 'scatter');"
      ]
    },
    {
      "cell_type": "markdown",
      "metadata": {
        "hidden": true,
        "id": "FQOF8S88h4_2"
      },
      "source": [
        "## Command Mode Shortcuts"
      ]
    },
    {
      "cell_type": "markdown",
      "metadata": {
        "hidden": true,
        "id": "FN_7EH1_h4_2"
      },
      "source": [
        "<kbd>Ctrl+M M</kbd> - Convert cell to Markdown\n",
        "<kbd>Ctrl+M Y</kbd> - Convert cell to Code"
      ]
    },
    {
      "cell_type": "code",
      "source": [
        "123"
      ],
      "metadata": {
        "id": "MZ36KWZ2h4_2"
      },
      "execution_count": null,
      "outputs": []
    },
    {
      "cell_type": "markdown",
      "metadata": {
        "hidden": true,
        "id": "NufX89GRh4_2"
      },
      "source": [
        "<kbd>Ctrl+M D</kbd> - Delete cell"
      ]
    },
    {
      "cell_type": "code",
      "execution_count": null,
      "metadata": {
        "ExecuteTime": {
          "end_time": "2021-02-08T08:42:23.335552Z",
          "start_time": "2021-02-08T08:42:23.312154Z"
        },
        "hidden": true,
        "id": "Dia3T6eXh4_3"
      },
      "outputs": [],
      "source": [
        "# code cell to be deleted"
      ]
    },
    {
      "cell_type": "markdown",
      "metadata": {
        "hidden": true,
        "id": "k7ZWQD6Hh4_3"
      },
      "source": [
        "<kbd>Ctrl+M O</kbd> - Toggle between hide or show output"
      ]
    },
    {
      "cell_type": "code",
      "execution_count": null,
      "metadata": {
        "ExecuteTime": {
          "end_time": "2021-02-08T08:42:23.357106Z",
          "start_time": "2021-02-08T08:42:23.337611Z"
        },
        "hidden": true,
        "id": "WKDXDc_kh4_3",
        "colab": {
          "base_uri": "https://localhost:8080/"
        },
        "outputId": "e3312530-cb85-46c2-bd5d-08b239ecbf12"
      },
      "outputs": [
        {
          "output_type": "stream",
          "name": "stdout",
          "text": [
            "some output\n"
          ]
        }
      ],
      "source": [
        "print('some output')"
      ]
    },
    {
      "cell_type": "markdown",
      "metadata": {
        "hidden": true,
        "id": "2jlQlLCuh4_3"
      },
      "source": [
        "<kbd>Shift</kbd>+<kbd>Arrow up/Arrow down</kbd>: Selects multiple cells. Once you have selected them you can operate on them like a batch (run, copy, paste etc)."
      ]
    },
    {
      "cell_type": "markdown",
      "metadata": {
        "hidden": true,
        "id": "7XYgVkU9h4_4"
      },
      "source": [
        "<kbd>Ctrl+Shift+P</kbd> - Command palette -> Merge cells."
      ]
    },
    {
      "cell_type": "code",
      "execution_count": null,
      "metadata": {
        "ExecuteTime": {
          "end_time": "2021-02-08T08:42:23.379863Z",
          "start_time": "2021-02-08T08:42:23.359607Z"
        },
        "hidden": true,
        "id": "uWdAgwK1h4_4"
      },
      "outputs": [],
      "source": [
        "print(123)"
      ]
    },
    {
      "cell_type": "code",
      "source": [
        "print(456)"
      ],
      "metadata": {
        "id": "XC7bI8jttfW3"
      },
      "execution_count": null,
      "outputs": []
    },
    {
      "cell_type": "markdown",
      "metadata": {
        "hidden": true,
        "id": "OQdGY91nh4_4"
      },
      "source": [
        "<kbd>Ctrl+M-</kbd> Split cell."
      ]
    },
    {
      "cell_type": "markdown",
      "metadata": {
        "hidden": true,
        "id": "ZJQrbxTph4_4"
      },
      "source": [
        "<kbd>Ctrl+space</kbd> autocomplete"
      ]
    },
    {
      "cell_type": "code",
      "execution_count": null,
      "metadata": {
        "ExecuteTime": {
          "end_time": "2021-02-08T08:42:23.550474Z",
          "start_time": "2021-02-08T08:42:23.404106Z"
        },
        "hidden": true,
        "id": "5yWW6ra3h4_5"
      },
      "outputs": [],
      "source": [
        "plt.plot(df['temperature'], df['humidity'], 'r.')"
      ]
    },
    {
      "cell_type": "markdown",
      "metadata": {
        "hidden": true,
        "id": "eAD-r4fMh4_5"
      },
      "source": [
        "## Special commands and line magics"
      ]
    },
    {
      "cell_type": "markdown",
      "metadata": {
        "hidden": true,
        "id": "BHKtbidjh4_5"
      },
      "source": [
        "`?function-name`: Shows the definition and docstring for that function"
      ]
    },
    {
      "cell_type": "code",
      "execution_count": null,
      "metadata": {
        "ExecuteTime": {
          "end_time": "2021-02-08T08:42:23.610545Z",
          "start_time": "2021-02-08T08:42:23.551852Z"
        },
        "hidden": true,
        "id": "tNEAqgE3h4_5"
      },
      "outputs": [],
      "source": [
        "??plt.show"
      ]
    },
    {
      "cell_type": "markdown",
      "metadata": {
        "hidden": true,
        "id": "6kJQrynkh4_5"
      },
      "source": [
        "`??function-name`: Shows the source code for that function"
      ]
    },
    {
      "cell_type": "code",
      "execution_count": null,
      "metadata": {
        "ExecuteTime": {
          "end_time": "2021-02-08T08:42:23.669713Z",
          "start_time": "2021-02-08T08:42:23.611975Z"
        },
        "hidden": true,
        "id": "_-9yYGDUh4_5",
        "colab": {
          "base_uri": "https://localhost:8080/"
        },
        "outputId": "bf2f9820-d4db-45b8-c2bb-849f65f9e17c"
      },
      "outputs": [
        {
          "output_type": "stream",
          "name": "stdout",
          "text": [
            "Object `df.show` not found.\n"
          ]
        }
      ],
      "source": [
        "??df.describe"
      ]
    },
    {
      "cell_type": "markdown",
      "metadata": {
        "hidden": true,
        "id": "dlSX0Ws0h4_6"
      },
      "source": [
        "Line magics are functions that you can run on cells and take as an argument the rest of the line from where they are called. You call them by placing a '%' sign before the command. The most useful ones are:"
      ]
    },
    {
      "cell_type": "markdown",
      "metadata": {
        "hidden": true,
        "id": "nEfsJf-Jh4_6"
      },
      "source": [
        "`%timeit`: Runs a line a given number of times and displays the average time it took to run it."
      ]
    },
    {
      "cell_type": "code",
      "execution_count": null,
      "metadata": {
        "ExecuteTime": {
          "end_time": "2021-02-08T08:42:23.731062Z",
          "start_time": "2021-02-08T08:42:23.690283Z"
        },
        "hidden": true,
        "id": "KVnIscsZh4_6",
        "colab": {
          "base_uri": "https://localhost:8080/"
        },
        "outputId": "4f0fa836-39d4-4573-c40a-100ebcf111e6"
      },
      "outputs": [
        {
          "output_type": "stream",
          "name": "stdout",
          "text": [
            "75.2 µs ± 22.9 µs per loop (mean ± std. dev. of 7 runs, 100 loops each)\n"
          ]
        }
      ],
      "source": [
        "%timeit -n100 [i+1 for i in range(1000)]"
      ]
    },
    {
      "cell_type": "code",
      "source": [
        "#  cell magic\n",
        "%%timeit -n100\n",
        "[i+1 for i in range(1000)]"
      ],
      "metadata": {
        "id": "fgcH2y3REPph",
        "colab": {
          "base_uri": "https://localhost:8080/"
        },
        "outputId": "d5c2e97a-865e-44c8-d9a3-dfb03134e2af"
      },
      "execution_count": null,
      "outputs": [
        {
          "output_type": "stream",
          "name": "stdout",
          "text": [
            "72.5 µs ± 16.8 µs per loop (mean ± std. dev. of 7 runs, 100 loops each)\n"
          ]
        }
      ]
    },
    {
      "cell_type": "markdown",
      "metadata": {
        "hidden": true,
        "id": "bLnGOZWCh4_7"
      },
      "source": [
        "`%debug`: Allows to inspect a function which is showing an error using the Python debugger. A very useful cheatsheet available [here](https://appletree.or.kr/quick_reference_cards/Python/Python%20Debugger%20Cheatsheet.pdf)."
      ]
    },
    {
      "cell_type": "code",
      "execution_count": null,
      "metadata": {
        "ExecuteTime": {
          "end_time": "2021-02-08T08:42:23.783591Z",
          "start_time": "2021-02-08T08:42:23.732178Z"
        },
        "hidden": true,
        "id": "AVOM2sFQh4_7",
        "colab": {
          "base_uri": "https://localhost:8080/",
          "height": 35
        },
        "outputId": "3ae0c05e-47fa-416f-df86-c5da9755480b"
      },
      "outputs": [
        {
          "output_type": "execute_result",
          "data": {
            "text/plain": [
              "'1000some text'"
            ],
            "application/vnd.google.colaboratory.intrinsic+json": {
              "type": "string"
            }
          },
          "metadata": {},
          "execution_count": 23
        }
      ],
      "source": [
        "for i in range(1000):\n",
        "    a = i+1\n",
        "    b = 'some text'\n",
        "    c = a+b\n",
        "c"
      ]
    },
    {
      "cell_type": "code",
      "execution_count": null,
      "metadata": {
        "ExecuteTime": {
          "end_time": "2021-02-08T08:42:23.871926Z",
          "start_time": "2021-02-08T08:42:21.542Z"
        },
        "hidden": true,
        "id": "C2o-NSQVh4_7",
        "collapsed": true,
        "colab": {
          "base_uri": "https://localhost:8080/"
        },
        "outputId": "9f5bd5b2-3d7c-4b63-c668-b0d726f12bc3"
      },
      "outputs": [
        {
          "name": "stdout",
          "output_type": "stream",
          "text": [
            "> \u001b[0;32m<ipython-input-21-44d8baeac464>\u001b[0m(4)\u001b[0;36m<cell line: 1>\u001b[0;34m()\u001b[0m\n",
            "\u001b[0;32m      1 \u001b[0;31m\u001b[0;32mfor\u001b[0m \u001b[0mi\u001b[0m \u001b[0;32min\u001b[0m \u001b[0mrange\u001b[0m\u001b[0;34m(\u001b[0m\u001b[0;36m1000\u001b[0m\u001b[0;34m)\u001b[0m\u001b[0;34m:\u001b[0m\u001b[0;34m\u001b[0m\u001b[0;34m\u001b[0m\u001b[0m\n",
            "\u001b[0m\u001b[0;32m      2 \u001b[0;31m    \u001b[0ma\u001b[0m \u001b[0;34m=\u001b[0m \u001b[0mi\u001b[0m\u001b[0;34m+\u001b[0m\u001b[0;36m1\u001b[0m\u001b[0;34m\u001b[0m\u001b[0;34m\u001b[0m\u001b[0m\n",
            "\u001b[0m\u001b[0;32m      3 \u001b[0;31m    \u001b[0mb\u001b[0m \u001b[0;34m=\u001b[0m \u001b[0;34m'some text'\u001b[0m\u001b[0;34m\u001b[0m\u001b[0;34m\u001b[0m\u001b[0m\n",
            "\u001b[0m\u001b[0;32m----> 4 \u001b[0;31m    \u001b[0mc\u001b[0m \u001b[0;34m=\u001b[0m \u001b[0ma\u001b[0m\u001b[0;34m+\u001b[0m\u001b[0mb\u001b[0m\u001b[0;34m\u001b[0m\u001b[0;34m\u001b[0m\u001b[0m\n",
            "\u001b[0m\u001b[0;32m      5 \u001b[0;31m\u001b[0mc\u001b[0m\u001b[0;34m\u001b[0m\u001b[0;34m\u001b[0m\u001b[0m\n",
            "\u001b[0m\n",
            "ipdb> help\n",
            "\n",
            "Documented commands (type help <topic>):\n",
            "========================================\n",
            "EOF    commands   enable    ll        pp       s                until \n",
            "a      condition  exit      longlist  psource  skip_hidden      up    \n",
            "alias  cont       h         n         q        skip_predicates  w     \n",
            "args   context    help      next      quit     source           whatis\n",
            "b      continue   ignore    p         r        step             where \n",
            "break  d          interact  pdef      restart  tbreak         \n",
            "bt     debug      j         pdoc      return   u              \n",
            "c      disable    jump      pfile     retval   unalias        \n",
            "cl     display    l         pinfo     run      undisplay      \n",
            "clear  down       list      pinfo2    rv       unt            \n",
            "\n",
            "Miscellaneous help topics:\n",
            "==========================\n",
            "exec  pdb\n",
            "\n",
            "ipdb> l\n",
            "\u001b[1;32m      1 \u001b[0m\u001b[0;32mfor\u001b[0m \u001b[0mi\u001b[0m \u001b[0;32min\u001b[0m \u001b[0mrange\u001b[0m\u001b[0;34m(\u001b[0m\u001b[0;36m1000\u001b[0m\u001b[0;34m)\u001b[0m\u001b[0;34m:\u001b[0m\u001b[0;34m\u001b[0m\u001b[0;34m\u001b[0m\u001b[0m\n",
            "\u001b[1;32m      2 \u001b[0m    \u001b[0ma\u001b[0m \u001b[0;34m=\u001b[0m \u001b[0mi\u001b[0m\u001b[0;34m+\u001b[0m\u001b[0;36m1\u001b[0m\u001b[0;34m\u001b[0m\u001b[0;34m\u001b[0m\u001b[0m\n",
            "\u001b[1;32m      3 \u001b[0m    \u001b[0mb\u001b[0m \u001b[0;34m=\u001b[0m \u001b[0;34m'some text'\u001b[0m\u001b[0;34m\u001b[0m\u001b[0;34m\u001b[0m\u001b[0m\n",
            "\u001b[0;32m----> 4 \u001b[0;31m    \u001b[0mc\u001b[0m \u001b[0;34m=\u001b[0m \u001b[0ma\u001b[0m\u001b[0;34m+\u001b[0m\u001b[0mb\u001b[0m\u001b[0;34m\u001b[0m\u001b[0;34m\u001b[0m\u001b[0m\n",
            "\u001b[0m\u001b[1;32m      5 \u001b[0m\u001b[0mc\u001b[0m\u001b[0;34m\u001b[0m\u001b[0;34m\u001b[0m\u001b[0m\n",
            "\n",
            "ipdb> q\n"
          ]
        }
      ],
      "source": [
        "%debug"
      ]
    },
    {
      "cell_type": "markdown",
      "source": [
        "<kbd>Ctrl</kbd> + <kbd>Alt</kbd> + <kbd>N</kbd>: Scratch pad"
      ],
      "metadata": {
        "id": "9y6loFFokhtO"
      }
    },
    {
      "cell_type": "markdown",
      "metadata": {
        "id": "dw3gLdr-h4_8"
      },
      "source": [
        "# Some useful Python tips & tricks"
      ]
    },
    {
      "cell_type": "markdown",
      "metadata": {
        "id": "dpOZbi4Sh4_8"
      },
      "source": [
        "## Lists"
      ]
    },
    {
      "cell_type": "code",
      "execution_count": null,
      "metadata": {
        "ExecuteTime": {
          "end_time": "2021-02-08T12:19:33.831318Z",
          "start_time": "2021-02-08T12:19:33.825765Z"
        },
        "id": "WEGGSxtZh4_8",
        "colab": {
          "base_uri": "https://localhost:8080/"
        },
        "outputId": "115004ec-7646-4368-cce8-740e6d620f84"
      },
      "outputs": [
        {
          "output_type": "execute_result",
          "data": {
            "text/plain": [
              "[1, 2, 3, 4, 5, 'text']"
            ]
          },
          "metadata": {},
          "execution_count": 25
        }
      ],
      "source": [
        "# list is like an array but it can hold items of mixed types (e.g. integers and strings)\n",
        "l = [1,2,3,4,5,'text']\n",
        "l"
      ]
    },
    {
      "cell_type": "code",
      "execution_count": null,
      "metadata": {
        "ExecuteTime": {
          "end_time": "2021-02-08T12:20:06.548855Z",
          "start_time": "2021-02-08T12:20:06.542718Z"
        },
        "id": "RtMpuJewh4_8",
        "colab": {
          "base_uri": "https://localhost:8080/"
        },
        "outputId": "f5a68914-e5a3-411d-d69a-e5ea7b56032f"
      },
      "outputs": [
        {
          "output_type": "execute_result",
          "data": {
            "text/plain": [
              "6"
            ]
          },
          "metadata": {},
          "execution_count": 26
        }
      ],
      "source": [
        "len(l)"
      ]
    },
    {
      "cell_type": "code",
      "execution_count": null,
      "metadata": {
        "ExecuteTime": {
          "end_time": "2021-02-08T12:21:58.053376Z",
          "start_time": "2021-02-08T12:21:58.047232Z"
        },
        "id": "uynB82Lzh4_9",
        "colab": {
          "base_uri": "https://localhost:8080/"
        },
        "outputId": "186019c3-09ab-4ae3-dad0-c404fae8969c"
      },
      "outputs": [
        {
          "output_type": "execute_result",
          "data": {
            "text/plain": [
              "1"
            ]
          },
          "metadata": {},
          "execution_count": 27
        }
      ],
      "source": [
        "l[0]"
      ]
    },
    {
      "cell_type": "code",
      "execution_count": null,
      "metadata": {
        "ExecuteTime": {
          "end_time": "2021-02-08T12:23:53.237055Z",
          "start_time": "2021-02-08T12:23:53.230686Z"
        },
        "id": "4Qd2sA9Eh4_9",
        "colab": {
          "base_uri": "https://localhost:8080/"
        },
        "outputId": "e4d78d5f-35e0-4364-eb88-788634c8fc24"
      },
      "outputs": [
        {
          "output_type": "execute_result",
          "data": {
            "text/plain": [
              "[3, 4]"
            ]
          },
          "metadata": {},
          "execution_count": 28
        }
      ],
      "source": [
        "l[2:4]"
      ]
    },
    {
      "cell_type": "code",
      "execution_count": null,
      "metadata": {
        "ExecuteTime": {
          "end_time": "2021-02-08T12:24:17.390150Z",
          "start_time": "2021-02-08T12:24:17.383995Z"
        },
        "id": "kKqpms6Mh4_-",
        "colab": {
          "base_uri": "https://localhost:8080/",
          "height": 35
        },
        "outputId": "5504f4ef-49c8-422c-88c9-73a11d7c5131"
      },
      "outputs": [
        {
          "output_type": "execute_result",
          "data": {
            "text/plain": [
              "'text'"
            ],
            "application/vnd.google.colaboratory.intrinsic+json": {
              "type": "string"
            }
          },
          "metadata": {},
          "execution_count": 29
        }
      ],
      "source": [
        "l[-1]"
      ]
    },
    {
      "cell_type": "code",
      "execution_count": null,
      "metadata": {
        "ExecuteTime": {
          "end_time": "2021-02-08T12:25:24.649603Z",
          "start_time": "2021-02-08T12:25:24.643313Z"
        },
        "id": "C71zHwagh4_-",
        "colab": {
          "base_uri": "https://localhost:8080/"
        },
        "outputId": "512ee97f-f323-4f20-f216-723c8c36b3d6"
      },
      "outputs": [
        {
          "output_type": "execute_result",
          "data": {
            "text/plain": [
              "[5, 'text']"
            ]
          },
          "metadata": {},
          "execution_count": 32
        }
      ],
      "source": [
        "l[-2:]"
      ]
    },
    {
      "cell_type": "code",
      "execution_count": null,
      "metadata": {
        "ExecuteTime": {
          "end_time": "2021-02-08T12:26:15.891877Z",
          "start_time": "2021-02-08T12:26:15.885671Z"
        },
        "id": "mYYGXBDTh4_-",
        "colab": {
          "base_uri": "https://localhost:8080/"
        },
        "outputId": "32b57257-3b2e-4867-d7f0-a822bd4032d4"
      },
      "outputs": [
        {
          "output_type": "execute_result",
          "data": {
            "text/plain": [
              "True"
            ]
          },
          "metadata": {},
          "execution_count": 33
        }
      ],
      "source": [
        "4 in l"
      ]
    },
    {
      "cell_type": "code",
      "execution_count": null,
      "metadata": {
        "ExecuteTime": {
          "end_time": "2021-02-08T12:26:21.978046Z",
          "start_time": "2021-02-08T12:26:21.972214Z"
        },
        "id": "TzQdW2Pth4__",
        "colab": {
          "base_uri": "https://localhost:8080/"
        },
        "outputId": "0a106382-09f5-481b-b558-4e4279a908cb"
      },
      "outputs": [
        {
          "output_type": "execute_result",
          "data": {
            "text/plain": [
              "False"
            ]
          },
          "metadata": {},
          "execution_count": 34
        }
      ],
      "source": [
        "7 in l"
      ]
    },
    {
      "cell_type": "code",
      "execution_count": null,
      "metadata": {
        "ExecuteTime": {
          "end_time": "2021-02-08T12:26:50.047935Z",
          "start_time": "2021-02-08T12:26:50.041440Z"
        },
        "id": "SR_PUbM9h4__",
        "colab": {
          "base_uri": "https://localhost:8080/"
        },
        "outputId": "a8c97fdd-3d9c-4c9f-c727-008583da63fc"
      },
      "outputs": [
        {
          "output_type": "execute_result",
          "data": {
            "text/plain": [
              "[1, 2, 3, 4, 5, 'text', 6]"
            ]
          },
          "metadata": {},
          "execution_count": 35
        }
      ],
      "source": [
        "l.append(6)\n",
        "l"
      ]
    },
    {
      "cell_type": "code",
      "execution_count": null,
      "metadata": {
        "ExecuteTime": {
          "end_time": "2021-02-08T12:28:55.223406Z",
          "start_time": "2021-02-08T12:28:55.217027Z"
        },
        "id": "lWK2xqwOh4__",
        "colab": {
          "base_uri": "https://localhost:8080/"
        },
        "outputId": "a709c7e0-20e2-476b-c00a-fc7f787ee654"
      },
      "outputs": [
        {
          "output_type": "execute_result",
          "data": {
            "text/plain": [
              "[1, 2, 3, 4, 5, 'text', 6]"
            ]
          },
          "metadata": {},
          "execution_count": 38
        }
      ],
      "source": [
        "l1 = l # this doesn't make a copy!\n",
        "l1"
      ]
    },
    {
      "cell_type": "code",
      "execution_count": null,
      "metadata": {
        "ExecuteTime": {
          "end_time": "2021-02-08T12:29:47.377105Z",
          "start_time": "2021-02-08T12:29:47.369897Z"
        },
        "id": "RcA_LwPxh5AA",
        "colab": {
          "base_uri": "https://localhost:8080/"
        },
        "outputId": "d1c98741-9086-4c8c-c863-ec97056fa7e1"
      },
      "outputs": [
        {
          "output_type": "execute_result",
          "data": {
            "text/plain": [
              "([-1, 2, 3, 4, 5, 'text', 6], [-1, 2, 3, 4, 5, 'text', 6])"
            ]
          },
          "metadata": {},
          "execution_count": 39
        }
      ],
      "source": [
        "l1[0] = -1\n",
        "l1, l"
      ]
    },
    {
      "cell_type": "code",
      "execution_count": null,
      "metadata": {
        "ExecuteTime": {
          "end_time": "2021-02-08T12:30:47.634927Z",
          "start_time": "2021-02-08T12:30:47.628326Z"
        },
        "id": "qrDlQ38nh5AA",
        "colab": {
          "base_uri": "https://localhost:8080/"
        },
        "outputId": "2251eff0-c717-4ebc-9f32-2d336aec8d1c"
      },
      "outputs": [
        {
          "output_type": "execute_result",
          "data": {
            "text/plain": [
              "[-1, 2, 3, 4, 5, 'text', 6]"
            ]
          },
          "metadata": {},
          "execution_count": 40
        }
      ],
      "source": [
        "l2 = l.copy()\n",
        "l2"
      ]
    },
    {
      "cell_type": "code",
      "execution_count": null,
      "metadata": {
        "ExecuteTime": {
          "end_time": "2021-02-08T12:30:54.860504Z",
          "start_time": "2021-02-08T12:30:54.854505Z"
        },
        "id": "TKXLarfyh5AA",
        "colab": {
          "base_uri": "https://localhost:8080/"
        },
        "outputId": "3825ce9d-c453-40e7-db8b-6636b6ac4af7"
      },
      "outputs": [
        {
          "output_type": "execute_result",
          "data": {
            "text/plain": [
              "([1, 2, 3, 4, 5, 'text', 6], [-1, 2, 3, 4, 5, 'text', 6])"
            ]
          },
          "metadata": {},
          "execution_count": 41
        }
      ],
      "source": [
        "l2[0] = 1\n",
        "l2, l"
      ]
    },
    {
      "cell_type": "code",
      "execution_count": null,
      "metadata": {
        "ExecuteTime": {
          "end_time": "2021-02-08T12:32:10.068610Z",
          "start_time": "2021-02-08T12:32:10.062223Z"
        },
        "id": "hf267MmWh5AA",
        "colab": {
          "base_uri": "https://localhost:8080/"
        },
        "outputId": "cae28038-d830-4ef1-faae-a31ad32c5132"
      },
      "outputs": [
        {
          "output_type": "stream",
          "name": "stdout",
          "text": [
            "-2\n",
            "4\n",
            "6\n",
            "8\n",
            "10\n",
            "texttext\n",
            "12\n"
          ]
        }
      ],
      "source": [
        "for item in l:\n",
        "    print(2*item)"
      ]
    },
    {
      "cell_type": "code",
      "execution_count": null,
      "metadata": {
        "ExecuteTime": {
          "end_time": "2021-02-08T12:32:53.542807Z",
          "start_time": "2021-02-08T12:32:53.535131Z"
        },
        "id": "srlxvEhDh5AB",
        "colab": {
          "base_uri": "https://localhost:8080/"
        },
        "outputId": "c8c05460-5ecc-45af-ee62-1d8efd15ce3e"
      },
      "outputs": [
        {
          "output_type": "execute_result",
          "data": {
            "text/plain": [
              "[-2, 4, 6, 8, 10, 'texttext', 12]"
            ]
          },
          "metadata": {},
          "execution_count": 43
        }
      ],
      "source": [
        "l3 = []\n",
        "for item in l:\n",
        "    l3.append(2*item)\n",
        "l3"
      ]
    },
    {
      "cell_type": "code",
      "execution_count": null,
      "metadata": {
        "ExecuteTime": {
          "end_time": "2021-02-08T12:33:52.348635Z",
          "start_time": "2021-02-08T12:33:52.341117Z"
        },
        "id": "sgYNRcUJh5AB",
        "colab": {
          "base_uri": "https://localhost:8080/"
        },
        "outputId": "329f1493-70c9-4242-93ca-a69f1674792d"
      },
      "outputs": [
        {
          "output_type": "execute_result",
          "data": {
            "text/plain": [
              "[-2, 4, 6, 8, 10, 'texttext', 12]"
            ]
          },
          "metadata": {},
          "execution_count": 44
        }
      ],
      "source": [
        "l4 = [2*item for item in l]\n",
        "l4"
      ]
    },
    {
      "cell_type": "markdown",
      "metadata": {
        "id": "XDjqFeTjh5AB"
      },
      "source": [
        "## List comprehensions"
      ]
    },
    {
      "cell_type": "code",
      "execution_count": null,
      "metadata": {
        "ExecuteTime": {
          "end_time": "2021-02-08T12:36:19.138027Z",
          "start_time": "2021-02-08T12:36:19.131648Z"
        },
        "id": "82njPfyxh5AB",
        "colab": {
          "base_uri": "https://localhost:8080/"
        },
        "outputId": "083e2535-d2a4-497a-ac68-910a850b8ec5"
      },
      "outputs": [
        {
          "output_type": "stream",
          "name": "stdout",
          "text": [
            "[0, 2, 4, 6, 8, 10, 12, 14, 16, 18]\n"
          ]
        }
      ],
      "source": [
        "numbers = []\n",
        "for i in range(10):\n",
        "    numbers.append(2*i)\n",
        "print(numbers)"
      ]
    },
    {
      "cell_type": "code",
      "execution_count": null,
      "metadata": {
        "ExecuteTime": {
          "end_time": "2021-02-01T10:58:32.711144Z",
          "start_time": "2021-02-01T10:58:32.704580Z"
        },
        "id": "5auMHVMxh5AB",
        "colab": {
          "base_uri": "https://localhost:8080/"
        },
        "outputId": "8f6561e2-6dac-48d6-dd35-c55659d01cc9"
      },
      "outputs": [
        {
          "output_type": "stream",
          "name": "stdout",
          "text": [
            "[0, 2, 4, 6, 8, 10, 12, 14, 16, 18]\n"
          ]
        }
      ],
      "source": [
        "numbers = [2*i for i in range(10)]\n",
        "print(numbers)"
      ]
    },
    {
      "cell_type": "code",
      "execution_count": null,
      "metadata": {
        "ExecuteTime": {
          "end_time": "2021-02-08T12:38:18.532273Z",
          "start_time": "2021-02-08T12:38:18.525629Z"
        },
        "id": "jl0wwzFUh5AC",
        "colab": {
          "base_uri": "https://localhost:8080/"
        },
        "outputId": "6f8f3749-4275-4dd2-f256-f17a5cf588cb"
      },
      "outputs": [
        {
          "output_type": "stream",
          "name": "stdout",
          "text": [
            "[8, 10, 12, 14, 16, 18]\n"
          ]
        }
      ],
      "source": [
        "numbers = []\n",
        "for i in range(10):\n",
        "    if i > 3:\n",
        "        numbers.append(2*i)\n",
        "print(numbers)"
      ]
    },
    {
      "cell_type": "code",
      "execution_count": null,
      "metadata": {
        "ExecuteTime": {
          "end_time": "2021-02-08T12:38:51.549108Z",
          "start_time": "2021-02-08T12:38:51.542801Z"
        },
        "id": "NGeurmnbh5AC",
        "colab": {
          "base_uri": "https://localhost:8080/"
        },
        "outputId": "254bda06-671c-42ab-a5aa-f48a5dcca577"
      },
      "outputs": [
        {
          "output_type": "stream",
          "name": "stdout",
          "text": [
            "[8, 10, 12, 14, 16, 18]\n"
          ]
        }
      ],
      "source": [
        "numbers = [2*i for i in range(10) if i > 3]\n",
        "print(numbers)"
      ]
    },
    {
      "cell_type": "code",
      "execution_count": null,
      "metadata": {
        "ExecuteTime": {
          "end_time": "2021-02-08T12:40:36.414247Z",
          "start_time": "2021-02-08T12:40:36.407794Z"
        },
        "id": "ol4hzn1kh5AC",
        "colab": {
          "base_uri": "https://localhost:8080/"
        },
        "outputId": "6abe09a5-410b-4b3d-eec6-377b24f4f4dc"
      },
      "outputs": [
        {
          "output_type": "stream",
          "name": "stdout",
          "text": [
            "[0, 1, 2, 3, 4, 5, 6, 7] [0, 1, 2, 3, 4, 5]\n"
          ]
        }
      ],
      "source": [
        "X = list(range(8))\n",
        "Y = list(range(6))\n",
        "print(X,Y)"
      ]
    },
    {
      "cell_type": "code",
      "execution_count": null,
      "metadata": {
        "ExecuteTime": {
          "end_time": "2021-02-08T12:41:03.182349Z",
          "start_time": "2021-02-08T12:41:03.176066Z"
        },
        "id": "xzYwFiQLh5AC",
        "colab": {
          "base_uri": "https://localhost:8080/"
        },
        "outputId": "d973f167-fbb9-4a80-86e4-9d76c29ddbde"
      },
      "outputs": [
        {
          "output_type": "stream",
          "name": "stdout",
          "text": [
            "[0, 0, 0, 0, 0, 0, 0, 1, 2, 3, 4, 5, 0, 2, 4, 6, 8, 10, 0, 3, 6, 9, 12, 15, 0, 4, 8, 12, 16, 20, 0, 5, 10, 15, 20, 25, 0, 6, 12, 18, 24, 30, 0, 7, 14, 21, 28, 35]\n"
          ]
        }
      ],
      "source": [
        "numbers = []\n",
        "for x in X:\n",
        "    for y in Y:\n",
        "        numbers.append(x*y)\n",
        "print(numbers)"
      ]
    },
    {
      "cell_type": "code",
      "execution_count": null,
      "metadata": {
        "ExecuteTime": {
          "end_time": "2021-02-08T12:41:46.901572Z",
          "start_time": "2021-02-08T12:41:46.895497Z"
        },
        "id": "BwH5cEZhh5AC"
      },
      "outputs": [],
      "source": [
        "numbers = [x*y for x in X for y in Y]\n",
        "print(numbers)"
      ]
    },
    {
      "cell_type": "markdown",
      "metadata": {
        "id": "gv-bUM4Nh5AD"
      },
      "source": [
        "## Dictionaries and comprehensions"
      ]
    },
    {
      "cell_type": "code",
      "execution_count": null,
      "metadata": {
        "ExecuteTime": {
          "end_time": "2021-02-08T12:43:39.638278Z",
          "start_time": "2021-02-08T12:43:39.631075Z"
        },
        "id": "lLKME1Ckh5AD",
        "colab": {
          "base_uri": "https://localhost:8080/"
        },
        "outputId": "8f4b532d-7546-426f-9f21-804953699371"
      },
      "outputs": [
        {
          "output_type": "execute_result",
          "data": {
            "text/plain": [
              "{'red': '#ff0000', 'green': '#00ff00', 'blue': '#0000ff'}"
            ]
          },
          "metadata": {},
          "execution_count": 51
        }
      ],
      "source": [
        "# dictionaries map keys to values\n",
        "d = {'red'  : '#ff0000',\n",
        "     'green': '#00ff00',\n",
        "     'blue' : '#0000ff'}\n",
        "d"
      ]
    },
    {
      "cell_type": "code",
      "execution_count": null,
      "metadata": {
        "ExecuteTime": {
          "end_time": "2021-02-08T12:45:34.217635Z",
          "start_time": "2021-02-08T12:45:34.211489Z"
        },
        "id": "bNHKlFcYh5AD",
        "colab": {
          "base_uri": "https://localhost:8080/",
          "height": 35
        },
        "outputId": "6ddf51e5-7cd6-496c-e687-85159001d7d6"
      },
      "outputs": [
        {
          "output_type": "execute_result",
          "data": {
            "text/plain": [
              "'#ff0000'"
            ],
            "application/vnd.google.colaboratory.intrinsic+json": {
              "type": "string"
            }
          },
          "metadata": {},
          "execution_count": 54
        }
      ],
      "source": [
        "d['red']"
      ]
    },
    {
      "cell_type": "code",
      "execution_count": null,
      "metadata": {
        "ExecuteTime": {
          "end_time": "2021-02-08T12:45:39.458873Z",
          "start_time": "2021-02-08T12:45:39.452558Z"
        },
        "id": "JOz0htZUh5AD",
        "colab": {
          "base_uri": "https://localhost:8080/"
        },
        "outputId": "1eef9d75-8dd1-4e97-ef26-77a99e33cac1"
      },
      "outputs": [
        {
          "output_type": "execute_result",
          "data": {
            "text/plain": [
              "dict_keys(['red', 'green', 'blue'])"
            ]
          },
          "metadata": {},
          "execution_count": 55
        }
      ],
      "source": [
        "d.keys()"
      ]
    },
    {
      "cell_type": "code",
      "execution_count": null,
      "metadata": {
        "ExecuteTime": {
          "end_time": "2021-02-08T12:45:50.573747Z",
          "start_time": "2021-02-08T12:45:50.568272Z"
        },
        "id": "grRQR41bh5AD",
        "colab": {
          "base_uri": "https://localhost:8080/"
        },
        "outputId": "e5757aa4-0085-4589-e481-b87f696c4303"
      },
      "outputs": [
        {
          "output_type": "execute_result",
          "data": {
            "text/plain": [
              "dict_values(['#ff0000', '#00ff00', '#0000ff'])"
            ]
          },
          "metadata": {},
          "execution_count": 56
        }
      ],
      "source": [
        "d.values()"
      ]
    },
    {
      "cell_type": "code",
      "execution_count": null,
      "metadata": {
        "ExecuteTime": {
          "end_time": "2021-02-08T12:46:56.185086Z",
          "start_time": "2021-02-08T12:46:56.178305Z"
        },
        "id": "bhnJJcZWh5AE",
        "colab": {
          "base_uri": "https://localhost:8080/"
        },
        "outputId": "1d03e6eb-ec13-4bf7-9feb-a7c394e30aa7"
      },
      "outputs": [
        {
          "output_type": "stream",
          "name": "stdout",
          "text": [
            "key = red, value = #ff0000\n",
            "key = green, value = #00ff00\n",
            "key = blue, value = #0000ff\n"
          ]
        }
      ],
      "source": [
        "for k,v in d.items():\n",
        "    print(f'key = {k}, value = {v}')"
      ]
    },
    {
      "cell_type": "code",
      "execution_count": null,
      "metadata": {
        "ExecuteTime": {
          "end_time": "2021-02-08T12:48:21.988127Z",
          "start_time": "2021-02-08T12:48:21.980239Z"
        },
        "id": "zIFIGWh9h5AE",
        "colab": {
          "base_uri": "https://localhost:8080/"
        },
        "outputId": "c1bd940b-b7e6-4d8e-eb1e-15446115f7c4"
      },
      "outputs": [
        {
          "output_type": "execute_result",
          "data": {
            "text/plain": [
              "{'red': '#ff000088', 'green': '#00ff0088', 'blue': '#0000ff88'}"
            ]
          },
          "metadata": {},
          "execution_count": 58
        }
      ],
      "source": [
        "# let's add something to every value in the dictionary\n",
        "new_d = {}\n",
        "for k,v in d.items():\n",
        "    new_d[k] = v + '88'\n",
        "new_d"
      ]
    },
    {
      "cell_type": "code",
      "execution_count": null,
      "metadata": {
        "ExecuteTime": {
          "end_time": "2021-02-08T12:49:25.294980Z",
          "start_time": "2021-02-08T12:49:25.286680Z"
        },
        "id": "sSvBd6lEh5AE",
        "colab": {
          "base_uri": "https://localhost:8080/"
        },
        "outputId": "42fc4755-2cc2-4811-9a61-2e47b8b116d2"
      },
      "outputs": [
        {
          "output_type": "execute_result",
          "data": {
            "text/plain": [
              "{'red': '#ff000088', 'green': '#00ff0088', 'blue': '#0000ff88'}"
            ]
          },
          "metadata": {},
          "execution_count": 59
        }
      ],
      "source": [
        "new_d = {k:v+'88' for k,v in d.items()}\n",
        "new_d"
      ]
    },
    {
      "cell_type": "code",
      "execution_count": null,
      "metadata": {
        "ExecuteTime": {
          "end_time": "2021-02-08T12:49:56.617457Z",
          "start_time": "2021-02-08T12:49:56.609840Z"
        },
        "id": "3Vw6IZc4h5AE",
        "colab": {
          "base_uri": "https://localhost:8080/"
        },
        "outputId": "d8f85f4f-4d53-4592-c44b-75a5d4731e90"
      },
      "outputs": [
        {
          "output_type": "execute_result",
          "data": {
            "text/plain": [
              "({'red': '#ff0000', 'green': '#00ff00', 'blue': '#0000ff'},\n",
              " {'red': '#ff0000', 'green': '#00ff00', 'blue': '#0000ff'})"
            ]
          },
          "metadata": {},
          "execution_count": 60
        }
      ],
      "source": [
        "# clone a dictionary\n",
        "{**d}, d.copy()"
      ]
    },
    {
      "cell_type": "markdown",
      "metadata": {
        "id": "APaOWycSh5AE"
      },
      "source": [
        "## Lambda and partial functions"
      ]
    },
    {
      "cell_type": "code",
      "execution_count": null,
      "metadata": {
        "ExecuteTime": {
          "end_time": "2021-02-08T12:51:09.502227Z",
          "start_time": "2021-02-08T12:51:09.495128Z"
        },
        "id": "IqZkETKph5AE",
        "colab": {
          "base_uri": "https://localhost:8080/"
        },
        "outputId": "3c5de5ae-44c9-45f5-9928-0f6a54b043db"
      },
      "outputs": [
        {
          "output_type": "execute_result",
          "data": {
            "text/plain": [
              "8"
            ]
          },
          "metadata": {},
          "execution_count": 2
        }
      ],
      "source": [
        "def add(x,y):\n",
        "    return x+y\n",
        "add(5, 3)"
      ]
    },
    {
      "cell_type": "code",
      "execution_count": null,
      "metadata": {
        "ExecuteTime": {
          "end_time": "2021-02-08T12:51:30.075906Z",
          "start_time": "2021-02-08T12:51:30.068996Z"
        },
        "id": "o0IUzykPh5AF",
        "colab": {
          "base_uri": "https://localhost:8080/"
        },
        "outputId": "0567adf6-f625-4a6b-e57d-3eeb0b82c245"
      },
      "outputs": [
        {
          "output_type": "execute_result",
          "data": {
            "text/plain": [
              "8"
            ]
          },
          "metadata": {},
          "execution_count": 3
        }
      ],
      "source": [
        "# The lambda keyword in Python provides a shortcut for declaring small and anonymous functions:\n",
        "addl = lambda x,y: x+y\n",
        "addl(5, 3)"
      ]
    },
    {
      "cell_type": "code",
      "execution_count": null,
      "metadata": {
        "ExecuteTime": {
          "end_time": "2021-02-08T12:53:21.135392Z",
          "start_time": "2021-02-08T12:53:21.127317Z"
        },
        "id": "NjgIxSo3h5AF",
        "colab": {
          "base_uri": "https://localhost:8080/"
        },
        "outputId": "ac92755c-691e-4913-a98d-3afb9c16d672"
      },
      "outputs": [
        {
          "output_type": "execute_result",
          "data": {
            "text/plain": [
              "(14, 24)"
            ]
          },
          "metadata": {},
          "execution_count": 4
        }
      ],
      "source": [
        "# it gets interesting when we want to fix some of function arguments\n",
        "addl10 = lambda x: add(x, 10)\n",
        "addl20 = lambda x: add(x, 20)\n",
        "addl10(4), addl20(4)"
      ]
    },
    {
      "cell_type": "code",
      "execution_count": null,
      "metadata": {
        "id": "Cd9t7M7_h5AF",
        "colab": {
          "base_uri": "https://localhost:8080/"
        },
        "outputId": "79358d91-d759-4d66-ca9b-b8d9f4d73903"
      },
      "outputs": [
        {
          "output_type": "execute_result",
          "data": {
            "text/plain": [
              "15"
            ]
          },
          "metadata": {},
          "execution_count": 5
        }
      ],
      "source": [
        "from functools import partial\n",
        "addp10 = partial(add, 10)\n",
        "addp10(5)"
      ]
    },
    {
      "cell_type": "code",
      "source": [],
      "metadata": {
        "id": "VZszIh2fSuM6"
      },
      "execution_count": null,
      "outputs": []
    }
  ],
  "metadata": {
    "kernelspec": {
      "display_name": "Python 3",
      "language": "python",
      "name": "python3"
    },
    "language_info": {
      "codemirror_mode": {
        "name": "ipython",
        "version": 3
      },
      "file_extension": ".py",
      "mimetype": "text/x-python",
      "name": "python",
      "nbconvert_exporter": "python",
      "pygments_lexer": "ipython3",
      "version": "3.8.3"
    },
    "notify_time": "0",
    "toc": {
      "base_numbering": 1,
      "nav_menu": {},
      "number_sections": true,
      "sideBar": true,
      "skip_h1_title": false,
      "title_cell": "Table of Contents",
      "title_sidebar": "Contents",
      "toc_cell": false,
      "toc_position": {
        "height": "calc(100% - 180px)",
        "left": "10px",
        "top": "150px",
        "width": "344.617px"
      },
      "toc_section_display": true,
      "toc_window_display": true
    },
    "varInspector": {
      "cols": {
        "lenName": 16,
        "lenType": 16,
        "lenVar": "160"
      },
      "kernels_config": {
        "python": {
          "delete_cmd_postfix": "",
          "delete_cmd_prefix": "del ",
          "library": "var_list.py",
          "varRefreshCmd": "print(var_dic_list())"
        },
        "r": {
          "delete_cmd_postfix": ") ",
          "delete_cmd_prefix": "rm(",
          "library": "var_list.r",
          "varRefreshCmd": "cat(var_dic_list()) "
        }
      },
      "types_to_exclude": [
        "module",
        "function",
        "builtin_function_or_method",
        "instance",
        "_Feature"
      ],
      "window_display": false
    },
    "colab": {
      "provenance": [],
      "include_colab_link": true
    }
  },
  "nbformat": 4,
  "nbformat_minor": 0
}