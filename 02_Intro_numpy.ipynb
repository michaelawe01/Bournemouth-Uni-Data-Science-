{
  "cells": [
    {
      "cell_type": "markdown",
      "metadata": {
        "id": "view-in-github",
        "colab_type": "text"
      },
      "source": [
        "<a href=\"https://colab.research.google.com/github/michaelawe01/Bournemouth-Uni-Data-Science-/blob/main/02_Intro_numpy.ipynb\" target=\"_parent\"><img src=\"https://colab.research.google.com/assets/colab-badge.svg\" alt=\"Open In Colab\"/></a>"
      ]
    },
    {
      "cell_type": "markdown",
      "metadata": {
        "id": "EAd5Jem3eabr"
      },
      "source": [
        "# Introduction"
      ]
    },
    {
      "cell_type": "markdown",
      "metadata": {
        "id": "28T1b732eabt"
      },
      "source": [
        "[NumPy](https://numpy.org/) is the **fundamental** package for scientific computing with Python. It contains among other things:\n",
        "- a powerful N-dimensional array object\n",
        "- sophisticated (broadcasting) functions\n",
        "- useful linear algebra, Fourier transform, and random number capabilities\n",
        "\n",
        "NumPy can be thought of as core functionality of [MATLAB](https://www.mathworks.com/products/matlab.html) ported to Python. Many other useful libraries build on top of NumPy.\n",
        "\n",
        "If somebody says that know Python, it's almost always also implied that they know NumPy. Python without libraries like NumPy doesn't have much to offer."
      ]
    },
    {
      "cell_type": "code",
      "execution_count": null,
      "metadata": {
        "ExecuteTime": {
          "end_time": "2021-02-08T13:03:57.967852Z",
          "start_time": "2021-02-08T13:03:57.963409Z"
        },
        "id": "NSJwMCBpeabu"
      },
      "outputs": [],
      "source": [
        "import numpy as np  # by convention numpy is imported as 'np'"
      ]
    },
    {
      "cell_type": "markdown",
      "metadata": {
        "id": "h8dzVwUSeabu"
      },
      "source": [
        "# Arrays"
      ]
    },
    {
      "cell_type": "markdown",
      "metadata": {
        "id": "pFv9TYfweabu"
      },
      "source": [
        "NumPy’s main object is the **homogeneous** multidimensional array. It is a table of elements (usually numbers), all of the same type, indexed by a tuple of ~non-negative~ integers. In NumPy dimensions are called _axes_.\n",
        "\n",
        "Deep learning libraries use _tensors_ and a _tensor_ is simply a multidimensional array, with some extra bells and whistles like ability to live on a GPU or support for automatic differentiation.\n",
        "\n",
        "Generalisation of 1d (vector) and 2d (matrix) into multiple dimensions, in the _tensor_ world referred to as rank-1, rank-2, rank-3 etc. _tensors_.\n",
        "\n",
        "Note, that the fundamental linear algebra operations like matrix product do not generalise into 3 and more dimensions, and hence only operate on a single 2d _face_ of a higher rank _tensor_."
      ]
    },
    {
      "cell_type": "code",
      "execution_count": null,
      "metadata": {
        "ExecuteTime": {
          "end_time": "2021-02-08T13:07:12.835320Z",
          "start_time": "2021-02-08T13:07:12.826370Z"
        },
        "id": "ZGkgzsFLeabv",
        "colab": {
          "base_uri": "https://localhost:8080/"
        },
        "outputId": "1e95f9ee-2b26-4374-bea3-27f7b8605fe1"
      },
      "outputs": [
        {
          "output_type": "stream",
          "name": "stdout",
          "text": [
            "<class 'numpy.ndarray'>\n",
            "(3,)\n",
            "1 2 3\n",
            "[5 2 3]\n"
          ]
        }
      ],
      "source": [
        "a = np.array([1, 2, 3])   # initilise an array with a list\n",
        "print(type(a))\n",
        "print(a.shape)            # neither a row or a column vector!\n",
        "print(a[0], a[1], a[2])   # basic indexing works like in the list\n",
        "a[0] = 5\n",
        "print(a)"
      ]
    },
    {
      "cell_type": "code",
      "execution_count": null,
      "metadata": {
        "ExecuteTime": {
          "end_time": "2021-02-08T13:09:29.064385Z",
          "start_time": "2021-02-08T13:09:29.055598Z"
        },
        "id": "wRudg4TEeabv",
        "colab": {
          "base_uri": "https://localhost:8080/"
        },
        "outputId": "c8647bce-d7c5-45ea-9452-c2dbc62ba8a5"
      },
      "outputs": [
        {
          "output_type": "stream",
          "name": "stdout",
          "text": [
            "(2, 3)\n",
            "[[1 2 3]\n",
            " [4 5 6]]\n",
            "1 2 4\n"
          ]
        }
      ],
      "source": [
        "b = np.array([[1, 2, 3], [4, 5, 6]])  # 2d array (initialised with a list of lists), has to be rectangular!\n",
        "print(b.shape)                        # (rows, columns)\n",
        "print(b)\n",
        "print(b[0,0], b[0,1], b[1,0])         # need two number to index into the array now (row, column)"
      ]
    },
    {
      "cell_type": "code",
      "source": [
        "b[1] # would this work?"
      ],
      "metadata": {
        "id": "GIVmwRyEP6_p",
        "colab": {
          "base_uri": "https://localhost:8080/"
        },
        "outputId": "3c2950f6-8c2c-4963-a570-191a59f21ae9"
      },
      "execution_count": null,
      "outputs": [
        {
          "output_type": "execute_result",
          "data": {
            "text/plain": [
              "array([4, 5, 6])"
            ]
          },
          "metadata": {},
          "execution_count": 4
        }
      ]
    },
    {
      "cell_type": "markdown",
      "source": [
        "## Convenience functions for array initialisation"
      ],
      "metadata": {
        "id": "PnYmX9p8hBq1"
      }
    },
    {
      "cell_type": "code",
      "execution_count": null,
      "metadata": {
        "ExecuteTime": {
          "end_time": "2021-02-08T13:09:57.069170Z",
          "start_time": "2021-02-08T13:09:57.063471Z"
        },
        "id": "wBjlLGI_eabv",
        "colab": {
          "base_uri": "https://localhost:8080/"
        },
        "outputId": "b59e93d4-aeab-4bfd-a806-2a7ac00cf32f"
      },
      "outputs": [
        {
          "output_type": "stream",
          "name": "stdout",
          "text": [
            "[[0. 0. 0.]\n",
            " [0. 0. 0.]]\n"
          ]
        }
      ],
      "source": [
        "a = np.zeros((2,3))\n",
        "print(a)"
      ]
    },
    {
      "cell_type": "code",
      "execution_count": null,
      "metadata": {
        "ExecuteTime": {
          "end_time": "2021-02-08T13:11:44.124694Z",
          "start_time": "2021-02-08T13:11:44.119106Z"
        },
        "id": "uI2_s9mNeabw",
        "colab": {
          "base_uri": "https://localhost:8080/"
        },
        "outputId": "4bde3619-1a92-4593-8384-e94cc25a6498"
      },
      "outputs": [
        {
          "output_type": "stream",
          "name": "stdout",
          "text": [
            "[[1. 1.]]\n"
          ]
        }
      ],
      "source": [
        "b = np.ones((1,2))\n",
        "print(b)"
      ]
    },
    {
      "cell_type": "code",
      "execution_count": null,
      "metadata": {
        "ExecuteTime": {
          "end_time": "2021-02-08T13:11:14.146414Z",
          "start_time": "2021-02-08T13:11:14.140808Z"
        },
        "id": "NAEvPz8leabw",
        "colab": {
          "base_uri": "https://localhost:8080/"
        },
        "outputId": "30985a85-903f-4209-b537-ec6350a34510"
      },
      "outputs": [
        {
          "output_type": "stream",
          "name": "stdout",
          "text": [
            "[[7 7]\n",
            " [7 7]]\n"
          ]
        }
      ],
      "source": [
        "c = np.full((2,2), 7)\n",
        "print(c)"
      ]
    },
    {
      "cell_type": "code",
      "execution_count": null,
      "metadata": {
        "ExecuteTime": {
          "end_time": "2021-02-08T13:13:14.713563Z",
          "start_time": "2021-02-08T13:13:14.707924Z"
        },
        "id": "GQEGxWqVeabw",
        "colab": {
          "base_uri": "https://localhost:8080/"
        },
        "outputId": "5efa6156-81ea-455d-da25-1c3bb45c4833"
      },
      "outputs": [
        {
          "output_type": "stream",
          "name": "stdout",
          "text": [
            "[[1. 0. 0. 0.]\n",
            " [0. 1. 0. 0.]\n",
            " [0. 0. 1. 0.]\n",
            " [0. 0. 0. 1.]]\n"
          ]
        }
      ],
      "source": [
        "d = np.eye(4) # I\n",
        "print(d)"
      ]
    },
    {
      "cell_type": "code",
      "execution_count": null,
      "metadata": {
        "ExecuteTime": {
          "end_time": "2021-02-08T13:13:49.202304Z",
          "start_time": "2021-02-08T13:13:49.196731Z"
        },
        "id": "McBlAg7Teabw",
        "colab": {
          "base_uri": "https://localhost:8080/"
        },
        "outputId": "2a32b382-b6aa-4206-c04d-a6b535a89d13"
      },
      "outputs": [
        {
          "output_type": "stream",
          "name": "stdout",
          "text": [
            "[[0.09834683 0.42110763 0.95788953]\n",
            " [0.53316528 0.69187711 0.31551563]\n",
            " [0.68650093 0.83462567 0.01828828]]\n"
          ]
        }
      ],
      "source": [
        "e = np.random.random((3,3))\n",
        "print(e)"
      ]
    },
    {
      "cell_type": "markdown",
      "metadata": {
        "id": "kQoi1Fcreabx"
      },
      "source": [
        "## Array indexing"
      ]
    },
    {
      "cell_type": "code",
      "execution_count": null,
      "metadata": {
        "ExecuteTime": {
          "end_time": "2021-02-08T13:14:20.045380Z",
          "start_time": "2021-02-08T13:14:20.037870Z"
        },
        "id": "tZ9oy3-Ueabx",
        "colab": {
          "base_uri": "https://localhost:8080/"
        },
        "outputId": "f87d5901-64e6-49fb-99a5-0fe42bbcaa3e"
      },
      "outputs": [
        {
          "output_type": "stream",
          "name": "stdout",
          "text": [
            "[[ 1  2  3  4]\n",
            " [ 5  6  7  8]\n",
            " [ 9 10 11 12]]\n",
            "2\n"
          ]
        }
      ],
      "source": [
        "a = np.array([[1, 2, 3, 4], [5, 6, 7, 8], [9, 10, 11, 12]])\n",
        "print(a)\n",
        "print(a[0,1])   # it's always row,column (unlike computer graphics!)"
      ]
    },
    {
      "cell_type": "code",
      "execution_count": null,
      "metadata": {
        "ExecuteTime": {
          "end_time": "2021-02-08T13:15:39.303111Z",
          "start_time": "2021-02-08T13:15:39.297638Z"
        },
        "id": "LOIwEN_Heabx",
        "colab": {
          "base_uri": "https://localhost:8080/"
        },
        "outputId": "0979a3dd-b3ad-4964-c8ed-a5af416f7562"
      },
      "outputs": [
        {
          "output_type": "stream",
          "name": "stdout",
          "text": [
            "[[2 3]\n",
            " [6 7]]\n"
          ]
        }
      ],
      "source": [
        "b = a[:2, 1:3]  # which rows and columns will this return?\n",
        "print(b)"
      ]
    },
    {
      "cell_type": "code",
      "execution_count": null,
      "metadata": {
        "ExecuteTime": {
          "end_time": "2021-02-08T13:17:30.554585Z",
          "start_time": "2021-02-08T13:17:30.549149Z"
        },
        "id": "DNNVi3wheabx",
        "colab": {
          "base_uri": "https://localhost:8080/"
        },
        "outputId": "5bd01e3b-3016-4513-a5f2-52e5f9870123"
      },
      "outputs": [
        {
          "output_type": "stream",
          "name": "stdout",
          "text": [
            "[[ 1 77  3  4]\n",
            " [ 5  6  7  8]\n",
            " [ 9 10 11 12]]\n"
          ]
        }
      ],
      "source": [
        "b[0,0] = 77    # b is merely a *view/reference* on a!\n",
        "print(a)"
      ]
    },
    {
      "cell_type": "code",
      "execution_count": null,
      "metadata": {
        "ExecuteTime": {
          "end_time": "2021-02-08T13:18:16.921852Z",
          "start_time": "2021-02-08T13:18:16.912437Z"
        },
        "id": "4SmZoF__eabx",
        "colab": {
          "base_uri": "https://localhost:8080/"
        },
        "outputId": "e921e3a0-e2e8-425b-89d4-db829e72f179"
      },
      "outputs": [
        {
          "output_type": "stream",
          "name": "stdout",
          "text": [
            "[5 6 7 8] (4,)\n",
            "[[5 6 7 8]] (1, 4)\n"
          ]
        }
      ],
      "source": [
        "a = np.array([[1, 2, 3, 4], [5, 6, 7, 8], [9, 10, 11, 12]])\n",
        "row_r1 = a[1, :]    # get the 1st row\n",
        "row_r2 = a[1:2, :]  # get rows between 1st and 2nd...?\n",
        "print(row_r1, row_r1.shape)  # row vector or column vector?\n",
        "print(row_r2, row_r2.shape)  # how come the shapes are not the same?? <wb>"
      ]
    },
    {
      "cell_type": "code",
      "execution_count": null,
      "metadata": {
        "ExecuteTime": {
          "end_time": "2021-02-08T13:19:59.503795Z",
          "start_time": "2021-02-08T13:19:59.496199Z"
        },
        "id": "Wpn-9b_2eaby",
        "colab": {
          "base_uri": "https://localhost:8080/"
        },
        "outputId": "4b744aae-17d4-47ca-b8d5-f974ea19218b"
      },
      "outputs": [
        {
          "output_type": "stream",
          "name": "stdout",
          "text": [
            "[ 2  6 10] (3,)\n",
            "[[ 2]\n",
            " [ 6]\n",
            " [10]] (3, 1)\n"
          ]
        }
      ],
      "source": [
        "# the same behaviour with columns\n",
        "col_r1 = a[:, 1]\n",
        "col_r2 = a[:, 1:2]\n",
        "print(col_r1, col_r1.shape)\n",
        "print(col_r2, col_r2.shape)"
      ]
    },
    {
      "cell_type": "code",
      "execution_count": null,
      "metadata": {
        "ExecuteTime": {
          "end_time": "2021-02-08T13:20:40.626886Z",
          "start_time": "2021-02-08T13:20:40.620680Z"
        },
        "id": "Gk-pF-gQeaby",
        "colab": {
          "base_uri": "https://localhost:8080/"
        },
        "outputId": "91eccbbe-a27a-456a-ac34-f88a56d0fc38"
      },
      "outputs": [
        {
          "output_type": "stream",
          "name": "stdout",
          "text": [
            "[[1 2]\n",
            " [3 4]\n",
            " [5 6]]\n"
          ]
        }
      ],
      "source": [
        "a = np.array([[1, 2], [3, 4], [5, 6]])\n",
        "print(a)"
      ]
    },
    {
      "cell_type": "code",
      "execution_count": null,
      "metadata": {
        "ExecuteTime": {
          "end_time": "2021-02-08T13:22:38.741099Z",
          "start_time": "2021-02-08T13:22:38.735221Z"
        },
        "id": "pGKx59gveaby",
        "colab": {
          "base_uri": "https://localhost:8080/"
        },
        "outputId": "779f2345-6b20-49d0-ea85-75b2c7c9bf6f"
      },
      "outputs": [
        {
          "output_type": "stream",
          "name": "stdout",
          "text": [
            "[1 4 5]\n"
          ]
        }
      ],
      "source": [
        "# paired indexing with two iterables (like lists)\n",
        "print(a[[0, 1, 2],\n",
        "        [0, 1, 0]])"
      ]
    },
    {
      "cell_type": "code",
      "execution_count": null,
      "metadata": {
        "ExecuteTime": {
          "end_time": "2021-02-08T13:22:48.455301Z",
          "start_time": "2021-02-08T13:22:48.449238Z"
        },
        "id": "yYwK4thyeaby",
        "colab": {
          "base_uri": "https://localhost:8080/"
        },
        "outputId": "27382c01-2af4-45ff-ec1e-9e36732db4e6"
      },
      "outputs": [
        {
          "output_type": "stream",
          "name": "stdout",
          "text": [
            "[1 4 5]\n"
          ]
        }
      ],
      "source": [
        "# equivalent but messy and not flexible - what if you wanted to index 1mln rows?\n",
        "print(np.array((a[0,0], a[1,1], a[2,0])))"
      ]
    },
    {
      "cell_type": "code",
      "execution_count": null,
      "metadata": {
        "ExecuteTime": {
          "end_time": "2021-02-08T13:23:16.152055Z",
          "start_time": "2021-02-08T13:23:16.145259Z"
        },
        "id": "vmS-yQZKeaby",
        "colab": {
          "base_uri": "https://localhost:8080/"
        },
        "outputId": "6de5c909-5340-4149-fe16-17b25c00456a"
      },
      "outputs": [
        {
          "output_type": "stream",
          "name": "stdout",
          "text": [
            "[[ 1  2  3]\n",
            " [ 4  5  6]\n",
            " [ 7  8  9]\n",
            " [10 11 12]]\n"
          ]
        }
      ],
      "source": [
        "a = np.array([[1, 2, 3], [4, 5, 6], [7, 8, 9], [10, 11, 12]])\n",
        "print(a)"
      ]
    },
    {
      "cell_type": "code",
      "execution_count": null,
      "metadata": {
        "ExecuteTime": {
          "end_time": "2021-02-08T13:24:03.781277Z",
          "start_time": "2021-02-08T13:24:03.774930Z"
        },
        "id": "1jGCkfz2eabz",
        "colab": {
          "base_uri": "https://localhost:8080/"
        },
        "outputId": "6f82fd2b-23f9-4216-e9a9-b543022d49fb"
      },
      "outputs": [
        {
          "output_type": "stream",
          "name": "stdout",
          "text": [
            "[ 1  6  7 11]\n"
          ]
        },
        {
          "output_type": "execute_result",
          "data": {
            "text/plain": [
              "([0, 1, 2, 3], array([0, 2, 0, 1]))"
            ]
          },
          "metadata": {},
          "execution_count": 19
        }
      ],
      "source": [
        "b = np.array([0, 2, 0, 1])\n",
        "print(a[range(4), b])   # plug in a range object - for each row we extract a value from a differnt column\n",
        "list(range(4)), b       # this is what the actual indexes look like"
      ]
    },
    {
      "cell_type": "code",
      "execution_count": null,
      "metadata": {
        "ExecuteTime": {
          "end_time": "2021-02-08T13:24:35.993755Z",
          "start_time": "2021-02-08T13:24:35.987808Z"
        },
        "id": "pHVPxjh2eabz",
        "colab": {
          "base_uri": "https://localhost:8080/"
        },
        "outputId": "570511a6-9023-40e0-e749-c4ca6a361619"
      },
      "outputs": [
        {
          "output_type": "stream",
          "name": "stdout",
          "text": [
            "[[11  2  3]\n",
            " [ 4  5 16]\n",
            " [17  8  9]\n",
            " [10 21 12]]\n"
          ]
        }
      ],
      "source": [
        "a[np.arange(4), b] += 10   # this indexing can be used to modify values in an array as well\n",
        "print(a)"
      ]
    },
    {
      "cell_type": "code",
      "execution_count": null,
      "metadata": {
        "ExecuteTime": {
          "end_time": "2021-02-08T13:25:15.640414Z",
          "start_time": "2021-02-08T13:25:15.633832Z"
        },
        "id": "zep-AHXzeabz",
        "colab": {
          "base_uri": "https://localhost:8080/"
        },
        "outputId": "7288695a-dcc4-40ed-cb03-e6de2e251a87"
      },
      "outputs": [
        {
          "output_type": "stream",
          "name": "stdout",
          "text": [
            "[[False False]\n",
            " [ True  True]\n",
            " [ True  True]]\n"
          ]
        }
      ],
      "source": [
        "a = np.array([[1, 2], [3, 4], [5, 6]])\n",
        "mask = (a > 2)    # boolean indexing\n",
        "print(mask)"
      ]
    },
    {
      "cell_type": "code",
      "execution_count": null,
      "metadata": {
        "ExecuteTime": {
          "end_time": "2021-02-08T13:26:37.511169Z",
          "start_time": "2021-02-08T13:26:37.505916Z"
        },
        "id": "qYsaiNo8eabz",
        "colab": {
          "base_uri": "https://localhost:8080/"
        },
        "outputId": "d13efcf5-f640-4e0e-d243-b61d7e514c3e"
      },
      "outputs": [
        {
          "output_type": "stream",
          "name": "stdout",
          "text": [
            "[3 4 5 6]\n"
          ]
        }
      ],
      "source": [
        "print(a[mask])"
      ]
    },
    {
      "cell_type": "code",
      "execution_count": null,
      "metadata": {
        "ExecuteTime": {
          "end_time": "2021-02-08T13:27:07.470893Z",
          "start_time": "2021-02-08T13:27:07.465574Z"
        },
        "scrolled": true,
        "id": "kTcyf5Wdeabz",
        "colab": {
          "base_uri": "https://localhost:8080/"
        },
        "outputId": "586b5a6b-2a79-4475-94e9-7e40187be666"
      },
      "outputs": [
        {
          "output_type": "stream",
          "name": "stdout",
          "text": [
            "[3 4 5 6]\n"
          ]
        }
      ],
      "source": [
        "print(a[a > 2])"
      ]
    },
    {
      "cell_type": "markdown",
      "metadata": {
        "id": "pMrNHwWpeabz"
      },
      "source": [
        "The dots `...` represent as many colons as needed to produce a complete indexing tuple. If `x` is an array with 5 axes/dimensions, then:\n",
        "- `x[1,2,...]` is equivalent to `x[1,2,:,:,:]`\n",
        "- `x[...,3]` to `x[:,:,:,:,3]`\n",
        "- `x[4,...,5,:]` to `x[4,:,:,5,:]`\n",
        "\n",
        "Super useful when working with high dimensional _tensors_ like a batch of videos."
      ]
    },
    {
      "cell_type": "code",
      "execution_count": null,
      "metadata": {
        "ExecuteTime": {
          "end_time": "2021-02-08T13:28:43.437189Z",
          "start_time": "2021-02-08T13:28:43.431150Z"
        },
        "id": "GeZO1BSfeabz",
        "colab": {
          "base_uri": "https://localhost:8080/"
        },
        "outputId": "bf51b3b3-fd64-42da-fe38-031edf1c6225"
      },
      "outputs": [
        {
          "output_type": "execute_result",
          "data": {
            "text/plain": [
              "(3, 5, 7, 9, 11)"
            ]
          },
          "metadata": {},
          "execution_count": 70
        }
      ],
      "source": [
        "x = np.random.randn(3,5,7,9,11)\n",
        "x.shape"
      ]
    },
    {
      "cell_type": "code",
      "execution_count": null,
      "metadata": {
        "ExecuteTime": {
          "end_time": "2021-02-08T13:30:04.824123Z",
          "start_time": "2021-02-08T13:30:04.817823Z"
        },
        "id": "1IEg7znOeab0",
        "colab": {
          "base_uri": "https://localhost:8080/"
        },
        "outputId": "d28b27a0-8462-462f-9339-7b6ff05efd32"
      },
      "outputs": [
        {
          "output_type": "stream",
          "name": "stdout",
          "text": [
            "(3, 5, 7, 9)\n",
            "(3, 5, 7, 9)\n"
          ]
        }
      ],
      "source": [
        "print(x[...,1].shape)      # indexing along the last axis/dimension\n",
        "print(x[:,:,:,:,1].shape)  # equivalent"
      ]
    },
    {
      "cell_type": "code",
      "execution_count": null,
      "metadata": {
        "ExecuteTime": {
          "end_time": "2021-02-08T13:30:51.605621Z",
          "start_time": "2021-02-08T13:30:51.599162Z"
        },
        "id": "K5vmeMbveab0",
        "colab": {
          "base_uri": "https://localhost:8080/"
        },
        "outputId": "c5b7b750-ec96-45a8-a266-a35fafc99cd8"
      },
      "outputs": [
        {
          "output_type": "execute_result",
          "data": {
            "text/plain": [
              "(3, 5, 7, 9, 1)"
            ]
          },
          "metadata": {},
          "execution_count": 72
        }
      ],
      "source": [
        "x[...,1:2].shape"
      ]
    },
    {
      "cell_type": "code",
      "source": [
        "x[...,1].shape"
      ],
      "metadata": {
        "id": "HJTvD8xnUUA_",
        "colab": {
          "base_uri": "https://localhost:8080/"
        },
        "outputId": "7ea9a43f-30a6-4e8f-ef1e-2be067b1211f"
      },
      "execution_count": null,
      "outputs": [
        {
          "output_type": "execute_result",
          "data": {
            "text/plain": [
              "(3, 5, 7, 9)"
            ]
          },
          "metadata": {},
          "execution_count": 73
        }
      ]
    },
    {
      "cell_type": "code",
      "execution_count": null,
      "metadata": {
        "ExecuteTime": {
          "end_time": "2021-02-08T13:31:45.716956Z",
          "start_time": "2021-02-08T13:31:45.710858Z"
        },
        "id": "nUSSPPxYeab0",
        "colab": {
          "base_uri": "https://localhost:8080/"
        },
        "outputId": "71dd5078-0d47-49d3-c580-a7c4406f71a2"
      },
      "outputs": [
        {
          "output_type": "execute_result",
          "data": {
            "text/plain": [
              "(3, 5, 7, 9, 1)"
            ]
          },
          "metadata": {},
          "execution_count": 74
        }
      ],
      "source": [
        "x[...,1,None].shape  # None adds empty axis, equivalent to np.newaxis"
      ]
    },
    {
      "cell_type": "code",
      "execution_count": null,
      "metadata": {
        "ExecuteTime": {
          "end_time": "2021-02-08T13:31:53.234580Z",
          "start_time": "2021-02-08T13:31:53.227294Z"
        },
        "id": "9qIKpF8peab0",
        "colab": {
          "base_uri": "https://localhost:8080/"
        },
        "outputId": "26a69389-c919-4b3a-991e-bcf403e3c7a4"
      },
      "outputs": [
        {
          "output_type": "execute_result",
          "data": {
            "text/plain": [
              "True"
            ]
          },
          "metadata": {},
          "execution_count": 75
        }
      ],
      "source": [
        "np.all(x[...,2,:] == x[:,:,:,2,:])"
      ]
    },
    {
      "cell_type": "markdown",
      "metadata": {
        "id": "oEGJD55Neab0"
      },
      "source": [
        "## Datatypes"
      ]
    },
    {
      "cell_type": "markdown",
      "source": [
        "Data types are normally inferred, but could be specified explicitly, too. Every `array` has them."
      ],
      "metadata": {
        "id": "CDzo156jpLlI"
      }
    },
    {
      "cell_type": "code",
      "execution_count": null,
      "metadata": {
        "ExecuteTime": {
          "end_time": "2021-02-08T13:32:49.459972Z",
          "start_time": "2021-02-08T13:32:49.454435Z"
        },
        "id": "0jn1TQtHeab0",
        "colab": {
          "base_uri": "https://localhost:8080/"
        },
        "outputId": "543de341-2547-4682-f122-b79c7225d7a1"
      },
      "outputs": [
        {
          "output_type": "stream",
          "name": "stdout",
          "text": [
            "int64\n"
          ]
        }
      ],
      "source": [
        "x = np.array([1, 2])\n",
        "print(x.dtype)  # what is the data type here?"
      ]
    },
    {
      "cell_type": "code",
      "source": [
        "x = np.array([1.0, 2.0])\n",
        "print(x.dtype)  # not a type used by NNs, too slow and memory intensive, such high precision is not needed"
      ],
      "metadata": {
        "id": "UTYXJdSvpnZj",
        "colab": {
          "base_uri": "https://localhost:8080/"
        },
        "outputId": "ceba571f-f3ec-47a9-92e4-049c0e53e889"
      },
      "execution_count": null,
      "outputs": [
        {
          "output_type": "stream",
          "name": "stdout",
          "text": [
            "float64\n"
          ]
        }
      ]
    },
    {
      "cell_type": "code",
      "source": [
        "x = np.array([1, 2.])\n",
        "print(x.dtype)"
      ],
      "metadata": {
        "id": "4tA3qkyTpWRS",
        "colab": {
          "base_uri": "https://localhost:8080/"
        },
        "outputId": "7afdd9a5-f94a-4f63-c040-59a5e7315641"
      },
      "execution_count": null,
      "outputs": [
        {
          "output_type": "stream",
          "name": "stdout",
          "text": [
            "float64\n"
          ]
        }
      ]
    },
    {
      "cell_type": "code",
      "execution_count": null,
      "metadata": {
        "ExecuteTime": {
          "end_time": "2021-02-08T13:34:29.295832Z",
          "start_time": "2021-02-08T13:34:29.290417Z"
        },
        "id": "BX0RCptyeab1",
        "colab": {
          "base_uri": "https://localhost:8080/"
        },
        "outputId": "9e27dd37-164b-400b-ccd6-9493d40314b1"
      },
      "outputs": [
        {
          "output_type": "stream",
          "name": "stdout",
          "text": [
            "int64\n"
          ]
        }
      ],
      "source": [
        "x = np.array([1.0, 2.0], dtype=np.int64)  # dtype can be specified in most array creation functions\n",
        "print(x.dtype)"
      ]
    },
    {
      "cell_type": "markdown",
      "metadata": {
        "id": "UyZ0fl64eab1"
      },
      "source": [
        "## Changing the shape of an array"
      ]
    },
    {
      "cell_type": "markdown",
      "source": [
        "Data often doesn't come in the shape we want it. MNIST dataset is a good example, 28x28 pixel images, typically flattened to 28x28=768 dimensions."
      ],
      "metadata": {
        "id": "fsZytvuvqMq9"
      }
    },
    {
      "cell_type": "code",
      "execution_count": null,
      "metadata": {
        "ExecuteTime": {
          "end_time": "2021-02-08T13:36:28.442310Z",
          "start_time": "2021-02-08T13:36:28.434031Z"
        },
        "id": "GaERdL4ceab1",
        "colab": {
          "base_uri": "https://localhost:8080/"
        },
        "outputId": "d2244c66-9467-4c15-8183-1dea9eda1462"
      },
      "outputs": [
        {
          "output_type": "execute_result",
          "data": {
            "text/plain": [
              "array([[4., 7., 0., 3.],\n",
              "       [1., 0., 1., 3.],\n",
              "       [3., 5., 4., 6.]])"
            ]
          },
          "metadata": {},
          "execution_count": 87
        }
      ],
      "source": [
        "np.random.seed(1)\n",
        "a = np.floor(10*np.random.random((3,4)))\n",
        "a"
      ]
    },
    {
      "cell_type": "markdown",
      "metadata": {
        "id": "QV9KdkkNeab2"
      },
      "source": [
        "NumPy stores arrays in [row-major](https://en.wikipedia.org/wiki/Row-_and_column-major_order) order."
      ]
    },
    {
      "cell_type": "code",
      "execution_count": null,
      "metadata": {
        "ExecuteTime": {
          "end_time": "2021-02-08T13:37:22.871781Z",
          "start_time": "2021-02-08T13:37:22.865333Z"
        },
        "id": "vnBaSdfkeab2",
        "colab": {
          "base_uri": "https://localhost:8080/"
        },
        "outputId": "4dba72a8-c28f-4719-9ff1-c974780a1a01"
      },
      "outputs": [
        {
          "output_type": "execute_result",
          "data": {
            "text/plain": [
              "array([4., 7., 0., 3., 1., 0., 1., 3., 3., 5., 4., 6.])"
            ]
          },
          "metadata": {},
          "execution_count": 88
        }
      ],
      "source": [
        "a.ravel()   # flatten the array - returns a view"
      ]
    },
    {
      "cell_type": "code",
      "source": [
        "a.flatten() # flatten the array - returns a copy, the same as `a.ravel().copy()`"
      ],
      "metadata": {
        "id": "56JBEkjuByJf",
        "colab": {
          "base_uri": "https://localhost:8080/"
        },
        "outputId": "0d30fd22-874c-4def-cef2-fc9442231e4e"
      },
      "execution_count": null,
      "outputs": [
        {
          "output_type": "execute_result",
          "data": {
            "text/plain": [
              "array([4., 7., 0., 3., 1., 0., 1., 3., 3., 5., 4., 6.])"
            ]
          },
          "metadata": {},
          "execution_count": 89
        }
      ]
    },
    {
      "cell_type": "code",
      "execution_count": null,
      "metadata": {
        "ExecuteTime": {
          "end_time": "2021-02-08T13:37:55.329781Z",
          "start_time": "2021-02-08T13:37:55.323545Z"
        },
        "id": "7ZjAcViJeab2",
        "colab": {
          "base_uri": "https://localhost:8080/"
        },
        "outputId": "c19273d1-1db7-4c86-e8c6-be4b5e344534"
      },
      "outputs": [
        {
          "output_type": "execute_result",
          "data": {
            "text/plain": [
              "array([[4., 7.],\n",
              "       [0., 3.],\n",
              "       [1., 0.],\n",
              "       [1., 3.],\n",
              "       [3., 5.],\n",
              "       [4., 6.]])"
            ]
          },
          "metadata": {},
          "execution_count": 90
        }
      ],
      "source": [
        "a.reshape(6,2)  # can specify any shape as long as there's space to store all the elements"
      ]
    },
    {
      "cell_type": "code",
      "execution_count": null,
      "metadata": {
        "ExecuteTime": {
          "end_time": "2021-02-08T13:40:18.254656Z",
          "start_time": "2021-02-08T13:40:18.247130Z"
        },
        "id": "pOjbwFGEeab3",
        "colab": {
          "base_uri": "https://localhost:8080/"
        },
        "outputId": "93ca4d9e-e854-46f6-e1df-0d9bd280dfe4"
      },
      "outputs": [
        {
          "output_type": "execute_result",
          "data": {
            "text/plain": [
              "array([[[4., 7.],\n",
              "        [0., 3.]],\n",
              "\n",
              "       [[1., 0.],\n",
              "        [1., 3.]],\n",
              "\n",
              "       [[3., 5.],\n",
              "        [4., 6.]]])"
            ]
          },
          "metadata": {},
          "execution_count": 96
        }
      ],
      "source": [
        "a.reshape(-1,2,2)  # the dimension with \"-1\" will be worked out automatically"
      ]
    },
    {
      "cell_type": "code",
      "execution_count": null,
      "metadata": {
        "ExecuteTime": {
          "end_time": "2021-02-08T13:41:00.633045Z",
          "start_time": "2021-02-08T13:41:00.627140Z"
        },
        "id": "ipLM9Haieab3",
        "colab": {
          "base_uri": "https://localhost:8080/"
        },
        "outputId": "702bf81f-bd8a-415e-c98b-aa11ba490346"
      },
      "outputs": [
        {
          "output_type": "execute_result",
          "data": {
            "text/plain": [
              "array([[4., 0., 1., 1., 3., 4.],\n",
              "       [7., 3., 0., 3., 5., 6.]])"
            ]
          },
          "metadata": {},
          "execution_count": 39
        }
      ],
      "source": [
        "a.reshape(6,2).T  # transpose"
      ]
    },
    {
      "cell_type": "markdown",
      "metadata": {
        "id": "ZEsSY04Ueab3"
      },
      "source": [
        "## Array math"
      ]
    },
    {
      "cell_type": "code",
      "execution_count": null,
      "metadata": {
        "ExecuteTime": {
          "end_time": "2021-02-08T13:41:26.720117Z",
          "start_time": "2021-02-08T13:41:26.713787Z"
        },
        "id": "jebzr0_jeab3"
      },
      "outputs": [],
      "source": [
        "x = np.array([[1, 2], [3, 4]], dtype=np.float64)\n",
        "y = np.array([[5, 6], [7, 8]], dtype=np.float64)"
      ]
    },
    {
      "cell_type": "code",
      "execution_count": null,
      "metadata": {
        "ExecuteTime": {
          "end_time": "2021-02-08T13:42:43.185051Z",
          "start_time": "2021-02-08T13:42:43.179625Z"
        },
        "id": "Jx9yQzQ1eab3",
        "colab": {
          "base_uri": "https://localhost:8080/"
        },
        "outputId": "e07d9b21-ca1b-4972-80e5-c9d6b0b1e853"
      },
      "outputs": [
        {
          "output_type": "stream",
          "name": "stdout",
          "text": [
            "[[ 6.  8.]\n",
            " [10. 12.]]\n"
          ]
        }
      ],
      "source": [
        "print(x + y)  # with a single \"+\" operation we add two sets of 4 numbers each!"
      ]
    },
    {
      "cell_type": "markdown",
      "metadata": {
        "id": "xMv6oolheab4"
      },
      "source": [
        "We avoid loops this way, which makes the code much much faster!"
      ]
    },
    {
      "cell_type": "code",
      "execution_count": null,
      "metadata": {
        "ExecuteTime": {
          "end_time": "2021-02-08T13:42:45.051200Z",
          "start_time": "2021-02-08T13:42:45.046660Z"
        },
        "id": "a6TgpfGleab4",
        "colab": {
          "base_uri": "https://localhost:8080/"
        },
        "outputId": "5f277c9d-68db-4fad-de60-b59add5abd69"
      },
      "outputs": [
        {
          "output_type": "stream",
          "name": "stdout",
          "text": [
            "[[ 6.  8.]\n",
            " [10. 12.]]\n"
          ]
        }
      ],
      "source": [
        "print(np.add(x, y))   # \"+\" is an overloaded operator, when Python sees two NumPy arrays involved in addition, it will call `np.add()`"
      ]
    },
    {
      "cell_type": "code",
      "execution_count": null,
      "metadata": {
        "ExecuteTime": {
          "end_time": "2021-02-08T13:42:54.720259Z",
          "start_time": "2021-02-08T13:42:54.715115Z"
        },
        "id": "_SaPP3VAeab4",
        "colab": {
          "base_uri": "https://localhost:8080/"
        },
        "outputId": "3e7ee11c-cb00-4a99-b86f-15d917e2b79f"
      },
      "outputs": [
        {
          "output_type": "stream",
          "name": "stdout",
          "text": [
            "[[-4. -4.]\n",
            " [-4. -4.]]\n"
          ]
        }
      ],
      "source": [
        "print(x - y)"
      ]
    },
    {
      "cell_type": "code",
      "execution_count": null,
      "metadata": {
        "ExecuteTime": {
          "end_time": "2021-02-08T13:42:56.190664Z",
          "start_time": "2021-02-08T13:42:56.185806Z"
        },
        "id": "lrwTDBJYeab4",
        "colab": {
          "base_uri": "https://localhost:8080/"
        },
        "outputId": "a7fa4ede-d3f3-42a0-bbb3-ad5490296792"
      },
      "outputs": [
        {
          "output_type": "stream",
          "name": "stdout",
          "text": [
            "[[-4. -4.]\n",
            " [-4. -4.]]\n"
          ]
        }
      ],
      "source": [
        "print(np.subtract(x, y))"
      ]
    },
    {
      "cell_type": "code",
      "execution_count": null,
      "metadata": {
        "ExecuteTime": {
          "end_time": "2021-02-08T13:42:59.522715Z",
          "start_time": "2021-02-08T13:42:59.516691Z"
        },
        "id": "H-OLhUT7eab5",
        "colab": {
          "base_uri": "https://localhost:8080/"
        },
        "outputId": "628cfec5-7417-40b5-9d72-8ac297ea8765"
      },
      "outputs": [
        {
          "output_type": "stream",
          "name": "stdout",
          "text": [
            "[[ 5. 12.]\n",
            " [21. 32.]]\n",
            "[[ 5. 12.]\n",
            " [21. 32.]]\n"
          ]
        }
      ],
      "source": [
        "print(x * y)\n",
        "print(np.multiply(x, y))"
      ]
    },
    {
      "cell_type": "code",
      "execution_count": null,
      "metadata": {
        "ExecuteTime": {
          "end_time": "2021-02-08T13:43:02.320431Z",
          "start_time": "2021-02-08T13:43:02.314084Z"
        },
        "id": "JUrHxOqMeab5",
        "colab": {
          "base_uri": "https://localhost:8080/"
        },
        "outputId": "00dbb6fa-4e65-4b8b-bd16-fa083aa3d83e"
      },
      "outputs": [
        {
          "output_type": "stream",
          "name": "stdout",
          "text": [
            "[[0.2        0.33333333]\n",
            " [0.42857143 0.5       ]]\n",
            "[[0.2        0.33333333]\n",
            " [0.42857143 0.5       ]]\n"
          ]
        }
      ],
      "source": [
        "print(x / y)\n",
        "print(np.divide(x, y))"
      ]
    },
    {
      "cell_type": "code",
      "execution_count": null,
      "metadata": {
        "ExecuteTime": {
          "end_time": "2021-02-08T13:43:08.749121Z",
          "start_time": "2021-02-08T13:43:08.743591Z"
        },
        "id": "7VrE1jhleab5",
        "colab": {
          "base_uri": "https://localhost:8080/"
        },
        "outputId": "0c8aaf62-2ce6-4a27-c494-40ba8f4a97c0"
      },
      "outputs": [
        {
          "output_type": "stream",
          "name": "stdout",
          "text": [
            "[[1.         1.41421356]\n",
            " [1.73205081 2.        ]]\n"
          ]
        }
      ],
      "source": [
        "print(np.sqrt(x))"
      ]
    },
    {
      "cell_type": "code",
      "execution_count": null,
      "metadata": {
        "ExecuteTime": {
          "end_time": "2021-02-08T13:43:43.015988Z",
          "start_time": "2021-02-08T13:43:43.008821Z"
        },
        "id": "MjxKaXhFeab5"
      },
      "outputs": [],
      "source": [
        "x = np.array([[1, 2, 3], [ 4,  5,  6]])\n",
        "y = np.array([[7, 8, 9], [10, 11, 12]])\n",
        "\n",
        "v = np.array([ 9, 10, 11])\n",
        "w = np.array([12, 13, 14])"
      ]
    },
    {
      "cell_type": "code",
      "execution_count": null,
      "metadata": {
        "ExecuteTime": {
          "end_time": "2021-02-08T13:45:01.735642Z",
          "start_time": "2021-02-08T13:45:01.730637Z"
        },
        "id": "xDePoj4geab5",
        "colab": {
          "base_uri": "https://localhost:8080/"
        },
        "outputId": "e990278a-9227-43d3-a30c-3afe0274004b"
      },
      "outputs": [
        {
          "output_type": "stream",
          "name": "stdout",
          "text": [
            "392\n",
            "392\n",
            "392\n"
          ]
        }
      ],
      "source": [
        "# three notations which do exactly the same thing\n",
        "print(v.dot(w))\n",
        "print(np.dot(v, w))\n",
        "print(v @ w)"
      ]
    },
    {
      "cell_type": "markdown",
      "metadata": {
        "id": "rWieoJw0eab5"
      },
      "source": [
        "Dot product is **the** operation that neural networks rely on. Even the largest networks with billions of paramaters really just do a lot of dot products (with some extras like non-linear activation functions).  \n",
        "\n",
        "If your dot product is a bit rusty, check out this [interactive dot product visualisation](http://matrixmultiplication.xyz/)."
      ]
    },
    {
      "cell_type": "code",
      "execution_count": null,
      "metadata": {
        "ExecuteTime": {
          "end_time": "2021-02-08T13:47:04.286669Z",
          "start_time": "2021-02-08T13:47:04.280587Z"
        },
        "id": "5-9pjujFeab5",
        "colab": {
          "base_uri": "https://localhost:8080/"
        },
        "outputId": "74011a9f-ce7f-4856-cab2-b9d94b196774"
      },
      "outputs": [
        {
          "output_type": "execute_result",
          "data": {
            "text/plain": [
              "((2, 3), (3,))"
            ]
          },
          "metadata": {},
          "execution_count": 126
        }
      ],
      "source": [
        "x.shape, v.shape  # you can't just multiply any arbitrary matrices together - their shapes must be compatible"
      ]
    },
    {
      "cell_type": "code",
      "execution_count": null,
      "metadata": {
        "ExecuteTime": {
          "end_time": "2021-02-08T13:47:15.461528Z",
          "start_time": "2021-02-08T13:47:15.455318Z"
        },
        "id": "BA6YiMefeab5",
        "colab": {
          "base_uri": "https://localhost:8080/"
        },
        "outputId": "c1c2480a-3742-49d9-dfc6-4fadc0300d26"
      },
      "outputs": [
        {
          "output_type": "execute_result",
          "data": {
            "text/plain": [
              "array([ 62, 152])"
            ]
          },
          "metadata": {},
          "execution_count": 127
        }
      ],
      "source": [
        "x @ v   # are these two shapes compatible?"
      ]
    },
    {
      "cell_type": "code",
      "execution_count": null,
      "metadata": {
        "ExecuteTime": {
          "end_time": "2021-02-08T13:47:28.415916Z",
          "start_time": "2021-02-08T13:47:28.404564Z"
        },
        "scrolled": true,
        "id": "id43jO7Aeab6",
        "colab": {
          "base_uri": "https://localhost:8080/"
        },
        "outputId": "2e678ebe-00e5-4c2b-ab49-fed708de9242"
      },
      "outputs": [
        {
          "output_type": "execute_result",
          "data": {
            "text/plain": [
              "((2, 3), (3,))"
            ]
          },
          "metadata": {},
          "execution_count": 129
        }
      ],
      "source": [
        "x.shape, y.argmax(axis=0).shape"
      ]
    },
    {
      "cell_type": "code",
      "execution_count": null,
      "metadata": {
        "ExecuteTime": {
          "end_time": "2021-02-08T13:48:27.517209Z",
          "start_time": "2021-02-08T13:48:27.510994Z"
        },
        "id": "aL-XtCzeeab6",
        "colab": {
          "base_uri": "https://localhost:8080/"
        },
        "outputId": "834147bb-4477-407c-a2eb-a1f9e6ec9f73"
      },
      "outputs": [
        {
          "output_type": "execute_result",
          "data": {
            "text/plain": [
              "array([[ 50,  68],\n",
              "       [122, 167]])"
            ]
          },
          "metadata": {},
          "execution_count": 134
        }
      ],
      "source": [
        "x @ y  # what about these two?"
      ]
    },
    {
      "cell_type": "code",
      "execution_count": null,
      "metadata": {
        "ExecuteTime": {
          "end_time": "2021-02-08T13:51:11.317913Z",
          "start_time": "2021-02-08T13:51:11.311761Z"
        },
        "id": "8ImxK_2Meab6",
        "colab": {
          "base_uri": "https://localhost:8080/"
        },
        "outputId": "3703575c-1bff-46e6-c6e0-30ad1a584e79"
      },
      "outputs": [
        {
          "output_type": "stream",
          "name": "stdout",
          "text": [
            "10\n",
            "[4 6]\n",
            "(2,)\n",
            "[[3]\n",
            " [7]]\n",
            "(2, 1)\n"
          ]
        }
      ],
      "source": [
        "# aggregate operations\n",
        "x = np.array([[1, 2], [3, 4]])\n",
        "print(np.sum(x))\n",
        "print(np.sum(x, axis=0))\n",
        "print(np.sum(x, axis=0).shape)\n",
        "print(np.sum(x, axis=1, keepdims=True))   # does not remove the unit axis\n",
        "print(np.sum(x, axis=1, keepdims=True).shape)   # does not remove the unit axis"
      ]
    },
    {
      "cell_type": "markdown",
      "metadata": {
        "id": "MuBfH0_qeab6"
      },
      "source": [
        "## Broadcasting"
      ]
    },
    {
      "cell_type": "code",
      "execution_count": null,
      "metadata": {
        "ExecuteTime": {
          "end_time": "2021-02-08T10:51:15.278476Z",
          "start_time": "2021-02-08T10:51:15.270931Z"
        },
        "id": "eVJbE-4Meab6",
        "colab": {
          "base_uri": "https://localhost:8080/"
        },
        "outputId": "f83edaa6-2e7f-400e-a05a-b107e8c2d5f2"
      },
      "outputs": [
        {
          "output_type": "execute_result",
          "data": {
            "text/plain": [
              "array([[ 1,  2,  3],\n",
              "       [ 4,  5,  6],\n",
              "       [ 7,  8,  9],\n",
              "       [10, 11, 12]])"
            ]
          },
          "metadata": {},
          "execution_count": 147
        }
      ],
      "source": [
        "x = np.array([[1, 2, 3], [4, 5, 6], [7, 8, 9], [10, 11, 12]])\n",
        "x"
      ]
    },
    {
      "cell_type": "code",
      "execution_count": null,
      "metadata": {
        "ExecuteTime": {
          "end_time": "2021-02-08T10:51:32.280646Z",
          "start_time": "2021-02-08T10:51:32.274530Z"
        },
        "id": "KUFJHanMeab6",
        "colab": {
          "base_uri": "https://localhost:8080/"
        },
        "outputId": "754003df-f11d-40fe-fc66-35759bd0902a"
      },
      "outputs": [
        {
          "output_type": "execute_result",
          "data": {
            "text/plain": [
              "array([[ 3,  4,  5],\n",
              "       [ 6,  7,  8],\n",
              "       [ 9, 10, 11],\n",
              "       [12, 13, 14]])"
            ]
          },
          "metadata": {},
          "execution_count": 148
        }
      ],
      "source": [
        "x + 2  # how is it even possible - the shapes don't match! single line -> 12 addition operations! <wb>"
      ]
    },
    {
      "cell_type": "code",
      "execution_count": null,
      "metadata": {
        "ExecuteTime": {
          "end_time": "2021-02-08T10:54:03.585943Z",
          "start_time": "2021-02-08T10:54:03.579485Z"
        },
        "id": "75sjC7CNeab6",
        "colab": {
          "base_uri": "https://localhost:8080/"
        },
        "outputId": "828cba56-8aaf-4d35-aa4e-262f251efa1a"
      },
      "outputs": [
        {
          "output_type": "execute_result",
          "data": {
            "text/plain": [
              "((4, 3), (3,))"
            ]
          },
          "metadata": {},
          "execution_count": 149
        }
      ],
      "source": [
        "y = np.array([1, 0, 1])\n",
        "x.shape, y.shape"
      ]
    },
    {
      "cell_type": "code",
      "execution_count": null,
      "metadata": {
        "ExecuteTime": {
          "end_time": "2021-02-08T10:54:16.683806Z",
          "start_time": "2021-02-08T10:54:16.677704Z"
        },
        "id": "YlbZspZEeab6",
        "colab": {
          "base_uri": "https://localhost:8080/"
        },
        "outputId": "cdbc327a-86f0-4aac-85e4-9d7d0638c9eb"
      },
      "outputs": [
        {
          "output_type": "execute_result",
          "data": {
            "text/plain": [
              "array([[ 2,  2,  4],\n",
              "       [ 5,  5,  7],\n",
              "       [ 8,  8, 10],\n",
              "       [11, 11, 13]])"
            ]
          },
          "metadata": {},
          "execution_count": 150
        }
      ],
      "source": [
        "x + y  # <wb>"
      ]
    },
    {
      "cell_type": "markdown",
      "metadata": {
        "id": "VJytw4ageab6"
      },
      "source": [
        "[__Broadcasting rules__](https://numpy.org/devdocs/user/basics.broadcasting.html)\n",
        "\n",
        "When operating on two arrays, NumPy compares their shapes element-wise. It starts with the trailing dimensions and works its way forward. Two dimensions are compatible when:\n",
        "- they are equal, or\n",
        "- one of them is `1`"
      ]
    },
    {
      "cell_type": "code",
      "execution_count": null,
      "metadata": {
        "ExecuteTime": {
          "end_time": "2021-02-08T10:56:58.168633Z",
          "start_time": "2021-02-08T10:56:58.162314Z"
        },
        "id": "qvLcWMpFeab6",
        "colab": {
          "base_uri": "https://localhost:8080/"
        },
        "outputId": "dcb239a5-1fd7-4cbd-95ca-cbeaf29daf50"
      },
      "outputs": [
        {
          "output_type": "execute_result",
          "data": {
            "text/plain": [
              "((4, 3), (3,))"
            ]
          },
          "metadata": {},
          "execution_count": 151
        }
      ],
      "source": [
        "x.shape, y.shape"
      ]
    },
    {
      "cell_type": "code",
      "execution_count": null,
      "metadata": {
        "ExecuteTime": {
          "end_time": "2021-02-08T10:57:09.253749Z",
          "start_time": "2021-02-08T10:57:09.246993Z"
        },
        "scrolled": true,
        "id": "fIuECkBseab6",
        "colab": {
          "base_uri": "https://localhost:8080/"
        },
        "outputId": "5a8cbd65-b6b8-4901-8481-55b978063bab"
      },
      "outputs": [
        {
          "output_type": "execute_result",
          "data": {
            "text/plain": [
              "array([[1, 0, 1],\n",
              "       [1, 0, 1],\n",
              "       [1, 0, 1],\n",
              "       [1, 0, 1]])"
            ]
          },
          "metadata": {},
          "execution_count": 152
        }
      ],
      "source": [
        "np.broadcast_to(y, x.shape)"
      ]
    },
    {
      "cell_type": "code",
      "execution_count": null,
      "metadata": {
        "ExecuteTime": {
          "end_time": "2021-02-08T10:57:09.697244Z",
          "start_time": "2021-02-08T10:57:09.694387Z"
        },
        "id": "vJIVbLrReab6"
      },
      "outputs": [],
      "source": [
        "x = np.arange(4)\n",
        "xx = x.reshape(4,1)\n",
        "y = np.ones(5)\n",
        "z = np.ones((3,4))"
      ]
    },
    {
      "cell_type": "code",
      "source": [
        "z"
      ],
      "metadata": {
        "colab": {
          "base_uri": "https://localhost:8080/"
        },
        "id": "B4IkbDtB9RDa",
        "outputId": "22f9edfe-531c-4cea-9f75-abd12e7430b3"
      },
      "execution_count": null,
      "outputs": [
        {
          "output_type": "execute_result",
          "data": {
            "text/plain": [
              "array([[1., 1., 1., 1.],\n",
              "       [1., 1., 1., 1.],\n",
              "       [1., 1., 1., 1.]])"
            ]
          },
          "metadata": {},
          "execution_count": 166
        }
      ]
    },
    {
      "cell_type": "code",
      "execution_count": null,
      "metadata": {
        "ExecuteTime": {
          "end_time": "2021-02-08T10:57:10.748286Z",
          "start_time": "2021-02-08T10:57:10.743729Z"
        },
        "id": "kXa61itReab6",
        "colab": {
          "base_uri": "https://localhost:8080/"
        },
        "outputId": "df7ed40b-8ebb-41e5-bee7-22dfd351891f"
      },
      "outputs": [
        {
          "output_type": "execute_result",
          "data": {
            "text/plain": [
              "((4,), (5,))"
            ]
          },
          "metadata": {},
          "execution_count": 144
        }
      ],
      "source": [
        "x.shape, y.shape  # can these two be added with broadcasting?"
      ]
    },
    {
      "cell_type": "code",
      "execution_count": null,
      "metadata": {
        "ExecuteTime": {
          "end_time": "2021-02-08T10:57:15.171151Z",
          "start_time": "2021-02-08T10:57:15.159866Z"
        },
        "id": "ekzuS_87eab7",
        "colab": {
          "base_uri": "https://localhost:8080/"
        },
        "outputId": "8706074b-ae71-48b5-dbf4-88385b6534d3"
      },
      "outputs": [
        {
          "output_type": "execute_result",
          "data": {
            "text/plain": [
              "array([[ 2,  2,  4],\n",
              "       [ 5,  5,  7],\n",
              "       [ 8,  8, 10],\n",
              "       [11, 11, 13]])"
            ]
          },
          "metadata": {},
          "execution_count": 158
        }
      ],
      "source": [
        "x + y"
      ]
    },
    {
      "cell_type": "code",
      "execution_count": null,
      "metadata": {
        "ExecuteTime": {
          "end_time": "2021-02-08T10:57:21.626559Z",
          "start_time": "2021-02-08T10:57:21.620599Z"
        },
        "id": "DK9Qx6bHeab7",
        "colab": {
          "base_uri": "https://localhost:8080/"
        },
        "outputId": "3a257bf8-aa0f-4661-a6b6-1861ada489c4"
      },
      "outputs": [
        {
          "output_type": "execute_result",
          "data": {
            "text/plain": [
              "((4, 1), (5,))"
            ]
          },
          "metadata": {},
          "execution_count": 167
        }
      ],
      "source": [
        "xx.shape, y.shape  # can these two be added with broadcasting?"
      ]
    },
    {
      "cell_type": "code",
      "execution_count": null,
      "metadata": {
        "ExecuteTime": {
          "end_time": "2021-02-08T10:57:25.430671Z",
          "start_time": "2021-02-08T10:57:25.424283Z"
        },
        "id": "r7A7RMzpeab7",
        "colab": {
          "base_uri": "https://localhost:8080/"
        },
        "outputId": "48d3654f-040c-4f3d-d739-c41ac341f06f"
      },
      "outputs": [
        {
          "output_type": "execute_result",
          "data": {
            "text/plain": [
              "array([[1., 1., 1., 1., 1.],\n",
              "       [2., 2., 2., 2., 2.],\n",
              "       [3., 3., 3., 3., 3.],\n",
              "       [4., 4., 4., 4., 4.]])"
            ]
          },
          "metadata": {},
          "execution_count": 168
        }
      ],
      "source": [
        "xx + y  # notice that these are two vectors (1d)! <wb>"
      ]
    },
    {
      "cell_type": "code",
      "execution_count": null,
      "metadata": {
        "ExecuteTime": {
          "end_time": "2021-02-08T10:59:05.702638Z",
          "start_time": "2021-02-08T10:59:05.696025Z"
        },
        "id": "K65_unseeab7",
        "colab": {
          "base_uri": "https://localhost:8080/"
        },
        "outputId": "cfbf1af2-1a4c-4523-ba71-2d6eaa887636"
      },
      "outputs": [
        {
          "output_type": "execute_result",
          "data": {
            "text/plain": [
              "((4,), (3, 4))"
            ]
          },
          "metadata": {},
          "execution_count": 169
        }
      ],
      "source": [
        "x.shape, z.shape  # can these two be added with broadcasting?"
      ]
    },
    {
      "cell_type": "code",
      "execution_count": null,
      "metadata": {
        "ExecuteTime": {
          "end_time": "2021-02-08T10:59:18.318652Z",
          "start_time": "2021-02-08T10:59:18.312141Z"
        },
        "id": "F_oAHb2yeab7",
        "colab": {
          "base_uri": "https://localhost:8080/"
        },
        "outputId": "9d3b4f82-9df3-40fe-9d37-0ec982d87133"
      },
      "outputs": [
        {
          "output_type": "execute_result",
          "data": {
            "text/plain": [
              "(3, 4)"
            ]
          },
          "metadata": {},
          "execution_count": 170
        }
      ],
      "source": [
        "(x + z).shape"
      ]
    },
    {
      "cell_type": "code",
      "execution_count": null,
      "metadata": {
        "ExecuteTime": {
          "end_time": "2021-02-08T10:59:19.219504Z",
          "start_time": "2021-02-08T10:59:19.213373Z"
        },
        "id": "dTPX9U4Feab7",
        "colab": {
          "base_uri": "https://localhost:8080/"
        },
        "outputId": "ed5edced-d247-4648-d527-500540d130ee"
      },
      "outputs": [
        {
          "output_type": "execute_result",
          "data": {
            "text/plain": [
              "array([[1, 2, 3],\n",
              "       [4, 5, 6],\n",
              "       [7, 8, 9]])"
            ]
          },
          "metadata": {},
          "execution_count": 171
        }
      ],
      "source": [
        "x = np.array([[1,2,3], [4,5,6], [7,8,9]])\n",
        "x"
      ]
    },
    {
      "cell_type": "code",
      "execution_count": null,
      "metadata": {
        "ExecuteTime": {
          "end_time": "2021-02-08T10:59:22.284745Z",
          "start_time": "2021-02-08T10:59:22.278816Z"
        },
        "id": "Jbsai-ayeab7",
        "colab": {
          "base_uri": "https://localhost:8080/"
        },
        "outputId": "c71f558b-8cb3-4d46-e933-4244ef270731"
      },
      "outputs": [
        {
          "output_type": "execute_result",
          "data": {
            "text/plain": [
              "array([-1, -2, -3])"
            ]
          },
          "metadata": {},
          "execution_count": 172
        }
      ],
      "source": [
        "y = np.array([-1,-2,-3])\n",
        "y"
      ]
    },
    {
      "cell_type": "code",
      "source": [
        "x.shape, y.shape  # these two can be added in two different ways?! <wb>"
      ],
      "metadata": {
        "id": "tMOKTPyM9DE1",
        "colab": {
          "base_uri": "https://localhost:8080/"
        },
        "outputId": "0c26e72c-4b93-4257-e7fb-48be51de5cb6"
      },
      "execution_count": null,
      "outputs": [
        {
          "output_type": "execute_result",
          "data": {
            "text/plain": [
              "((3, 3), (3,))"
            ]
          },
          "metadata": {},
          "execution_count": 173
        }
      ]
    },
    {
      "cell_type": "code",
      "execution_count": null,
      "metadata": {
        "ExecuteTime": {
          "end_time": "2021-02-08T10:59:27.833295Z",
          "start_time": "2021-02-08T10:59:27.826903Z"
        },
        "id": "dJKUFboaeab7",
        "colab": {
          "base_uri": "https://localhost:8080/"
        },
        "outputId": "54da170a-4eba-4885-b652-a99086234ebd"
      },
      "outputs": [
        {
          "output_type": "execute_result",
          "data": {
            "text/plain": [
              "array([[0, 0, 0],\n",
              "       [3, 3, 3],\n",
              "       [6, 6, 6]])"
            ]
          },
          "metadata": {},
          "execution_count": 174
        }
      ],
      "source": [
        "x + y"
      ]
    },
    {
      "cell_type": "code",
      "execution_count": null,
      "metadata": {
        "ExecuteTime": {
          "end_time": "2021-02-08T10:59:30.211426Z",
          "start_time": "2021-02-08T10:59:30.205838Z"
        },
        "id": "O6NHbgqXeab7",
        "colab": {
          "base_uri": "https://localhost:8080/"
        },
        "outputId": "a1c0f844-0f2f-48a3-9a75-10b04c8e1738"
      },
      "outputs": [
        {
          "output_type": "execute_result",
          "data": {
            "text/plain": [
              "((3, 3), (3,))"
            ]
          },
          "metadata": {},
          "execution_count": 175
        }
      ],
      "source": [
        "x.shape, y.shape"
      ]
    },
    {
      "cell_type": "code",
      "source": [
        "y[None, :].shape, y[:, None].shape  # how are these two different?"
      ],
      "metadata": {
        "id": "Q9kLvDxv9sG0",
        "colab": {
          "base_uri": "https://localhost:8080/"
        },
        "outputId": "a384e2b7-7372-493a-ab6b-3818c3f75039"
      },
      "execution_count": null,
      "outputs": [
        {
          "output_type": "execute_result",
          "data": {
            "text/plain": [
              "((1, 3), (3, 1))"
            ]
          },
          "metadata": {},
          "execution_count": 176
        }
      ]
    },
    {
      "cell_type": "code",
      "execution_count": null,
      "metadata": {
        "ExecuteTime": {
          "end_time": "2021-02-08T10:59:30.600250Z",
          "start_time": "2021-02-08T10:59:30.595545Z"
        },
        "id": "GK-WZii_eab7",
        "colab": {
          "base_uri": "https://localhost:8080/"
        },
        "outputId": "19310eb4-3873-4a24-af06-ce4ba78c8bab"
      },
      "outputs": [
        {
          "output_type": "execute_result",
          "data": {
            "text/plain": [
              "array([[0, 0, 0],\n",
              "       [3, 3, 3],\n",
              "       [6, 6, 6]])"
            ]
          },
          "metadata": {},
          "execution_count": 177
        }
      ],
      "source": [
        "x + y[None, :]"
      ]
    },
    {
      "cell_type": "code",
      "execution_count": null,
      "metadata": {
        "ExecuteTime": {
          "end_time": "2021-02-08T10:59:30.964678Z",
          "start_time": "2021-02-08T10:59:30.959831Z"
        },
        "id": "o4hzP0Lneab7",
        "colab": {
          "base_uri": "https://localhost:8080/"
        },
        "outputId": "e322c8b6-f4a0-4134-8480-42cab8c14345"
      },
      "outputs": [
        {
          "output_type": "execute_result",
          "data": {
            "text/plain": [
              "array([[0, 1, 2],\n",
              "       [2, 3, 4],\n",
              "       [4, 5, 6]])"
            ]
          },
          "metadata": {},
          "execution_count": 178
        }
      ],
      "source": [
        "x + y[:, None]"
      ]
    },
    {
      "cell_type": "markdown",
      "metadata": {
        "id": "DJLTcQ-qeab7"
      },
      "source": [
        "## Can't we do the same with loops?"
      ]
    },
    {
      "cell_type": "code",
      "execution_count": null,
      "metadata": {
        "ExecuteTime": {
          "end_time": "2021-02-08T10:59:56.653548Z",
          "start_time": "2021-02-08T10:59:56.642994Z"
        },
        "id": "n2TN9Ty3eab7",
        "colab": {
          "base_uri": "https://localhost:8080/"
        },
        "outputId": "962a5824-d9de-4d9b-c4df-a04d07b495c7"
      },
      "outputs": [
        {
          "output_type": "execute_result",
          "data": {
            "text/plain": [
              "array([[0.20445225, 0.87811744, 0.02738759, 0.67046751, 0.4173048 ],\n",
              "       [0.93259546, 0.69681816, 0.06600017, 0.75546305, 0.75387619],\n",
              "       [0.17395567, 0.12632952, 0.13507916, 0.50566217, 0.02152481],\n",
              "       [0.25711829, 0.1108913 , 0.19296273, 0.49958417, 0.72858567],\n",
              "       [0.80296324, 0.6968005 , 0.76621138, 0.34245412, 0.84585148]])"
            ]
          },
          "metadata": {},
          "execution_count": 179
        }
      ],
      "source": [
        "x = np.random.random((1000,100))\n",
        "x[:5,:5]"
      ]
    },
    {
      "cell_type": "code",
      "execution_count": null,
      "metadata": {
        "ExecuteTime": {
          "end_time": "2021-02-08T11:00:02.968662Z",
          "start_time": "2021-02-08T11:00:02.961956Z"
        },
        "id": "n8AsPlateab7",
        "colab": {
          "base_uri": "https://localhost:8080/"
        },
        "outputId": "f13767c0-ee54-4310-c865-9dacce746af6"
      },
      "outputs": [
        {
          "output_type": "execute_result",
          "data": {
            "text/plain": [
              "(100,)"
            ]
          },
          "metadata": {},
          "execution_count": 180
        }
      ],
      "source": [
        "y = np.random.random(100)\n",
        "y.shape"
      ]
    },
    {
      "cell_type": "code",
      "execution_count": null,
      "metadata": {
        "ExecuteTime": {
          "end_time": "2021-02-08T11:00:05.228338Z",
          "start_time": "2021-02-08T11:00:05.223648Z"
        },
        "id": "HvJVZQ1Deab7",
        "colab": {
          "base_uri": "https://localhost:8080/"
        },
        "outputId": "2f30fe7d-89e1-4f77-85d1-7fca85667f0e"
      },
      "outputs": [
        {
          "output_type": "execute_result",
          "data": {
            "text/plain": [
              "(1000, 100)"
            ]
          },
          "metadata": {},
          "execution_count": 181
        }
      ],
      "source": [
        "z = x * y\n",
        "z.shape"
      ]
    },
    {
      "cell_type": "markdown",
      "metadata": {
        "id": "nqoAXG_yeab7"
      },
      "source": [
        "How fast is it with broadcasting?"
      ]
    },
    {
      "cell_type": "code",
      "execution_count": null,
      "metadata": {
        "ExecuteTime": {
          "end_time": "2021-02-08T11:00:18.234093Z",
          "start_time": "2021-02-08T11:00:18.157290Z"
        },
        "id": "9QeaGqQNeab7",
        "colab": {
          "base_uri": "https://localhost:8080/"
        },
        "outputId": "3ffd38da-eb6e-42b9-c52c-434f0ff0dcc6"
      },
      "outputs": [
        {
          "output_type": "stream",
          "name": "stdout",
          "text": [
            "125 µs ± 26.1 µs per loop (mean ± std. dev. of 7 runs, 100 loops each)\n"
          ]
        }
      ],
      "source": [
        "%timeit -n100 x * y  # µ = micro = 10**(-6)"
      ]
    },
    {
      "cell_type": "markdown",
      "metadata": {
        "id": "rdft5CZ8eab7"
      },
      "source": [
        "What about without broadcasting? Is the difference even worth talking about?"
      ]
    },
    {
      "cell_type": "code",
      "execution_count": null,
      "metadata": {
        "ExecuteTime": {
          "end_time": "2021-02-08T11:02:03.433090Z",
          "start_time": "2021-02-08T11:02:02.412762Z"
        },
        "scrolled": true,
        "id": "Mu6xfgYDeab8",
        "colab": {
          "base_uri": "https://localhost:8080/"
        },
        "outputId": "cbcc8836-283b-4897-ed5a-e00ee24d766a"
      },
      "outputs": [
        {
          "output_type": "stream",
          "name": "stdout",
          "text": [
            "1.54 ms ± 650 µs per loop (mean ± std. dev. of 7 runs, 100 loops each)\n"
          ]
        }
      ],
      "source": [
        "o = x.copy()\n",
        "%timeit -n100 for i in range(o.shape[0]): o[i] += y"
      ]
    },
    {
      "cell_type": "markdown",
      "metadata": {
        "id": "sucPBbK3eab8"
      },
      "source": [
        "- Basic Linear Algebra Subprograms - [BLAS](https://en.wikipedia.org/wiki/Basic_Linear_Algebra_Subprograms)\n",
        "- Single instruction, multiple data - [SIMD](https://en.wikipedia.org/wiki/SIMD)"
      ]
    },
    {
      "cell_type": "markdown",
      "metadata": {
        "id": "mBWYjAhfeab8"
      },
      "source": [
        "Python loops (no NumPy at all):"
      ]
    },
    {
      "cell_type": "code",
      "execution_count": null,
      "metadata": {
        "ExecuteTime": {
          "end_time": "2021-02-08T11:02:49.769087Z",
          "start_time": "2021-02-08T11:02:49.659844Z"
        },
        "id": "jonlMD7Qeab8",
        "colab": {
          "base_uri": "https://localhost:8080/"
        },
        "outputId": "b6830427-09d4-4bb5-cef3-6dd0daaefc20"
      },
      "outputs": [
        {
          "output_type": "stream",
          "name": "stdout",
          "text": [
            "47.4 ms ± 13.1 ms per loop (mean ± std. dev. of 7 runs, 10 loops each)\n"
          ]
        }
      ],
      "source": [
        "%%timeit -n10\n",
        "\n",
        "o = x.copy()\n",
        "for i in range(x.shape[0]):\n",
        "    for j in range(x.shape[1]):\n",
        "        o[i,j] += y[j]"
      ]
    },
    {
      "cell_type": "markdown",
      "metadata": {
        "id": "e1VkuNgKeab8"
      },
      "source": [
        "# SciPy"
      ]
    },
    {
      "cell_type": "markdown",
      "metadata": {
        "id": "zU72UnHTeab8"
      },
      "source": [
        "SciPy is a collection of mathematical algorithms and convenience functions built on the NumPy extension of Python."
      ]
    },
    {
      "cell_type": "markdown",
      "metadata": {
        "id": "XBOebWlfeab8"
      },
      "source": [
        "## Distance between points"
      ]
    },
    {
      "cell_type": "code",
      "execution_count": null,
      "metadata": {
        "ExecuteTime": {
          "end_time": "2020-02-10T14:32:16.961839Z",
          "start_time": "2020-02-10T14:32:16.342582Z"
        },
        "id": "3KLR_iPleab8",
        "colab": {
          "base_uri": "https://localhost:8080/"
        },
        "outputId": "c05bc2b0-068d-4472-9af1-c7d85624b272"
      },
      "outputs": [
        {
          "output_type": "stream",
          "name": "stdout",
          "text": [
            "[[0 1]\n",
            " [1 0]\n",
            " [2 0]]\n"
          ]
        }
      ],
      "source": [
        "from scipy.spatial.distance import pdist\n",
        "from scipy.spatial.distance import squareform\n",
        "\n",
        "x = np.array([[0, 1], [1, 0], [2, 0]])\n",
        "print(x)"
      ]
    },
    {
      "cell_type": "code",
      "execution_count": null,
      "metadata": {
        "ExecuteTime": {
          "end_time": "2020-02-10T14:32:31.533401Z",
          "start_time": "2020-02-10T14:32:31.527418Z"
        },
        "id": "zQjiaiq5eab8",
        "colab": {
          "base_uri": "https://localhost:8080/"
        },
        "outputId": "dfdf9114-e0dc-45a2-e653-044475715517"
      },
      "outputs": [
        {
          "output_type": "stream",
          "name": "stdout",
          "text": [
            "[1.41421356 2.23606798 1.        ]\n"
          ]
        }
      ],
      "source": [
        "d1 = pdist(x, 'euclidean')\n",
        "print(d1)"
      ]
    },
    {
      "cell_type": "code",
      "execution_count": null,
      "metadata": {
        "ExecuteTime": {
          "end_time": "2020-02-10T14:32:36.683588Z",
          "start_time": "2020-02-10T14:32:36.673615Z"
        },
        "id": "tpReCJ3Ueab8",
        "colab": {
          "base_uri": "https://localhost:8080/"
        },
        "outputId": "579f563b-0eb0-47e3-cdfc-07b233578677"
      },
      "outputs": [
        {
          "output_type": "stream",
          "name": "stdout",
          "text": [
            "[[0.         1.41421356 2.23606798]\n",
            " [1.41421356 0.         1.        ]\n",
            " [2.23606798 1.         0.        ]]\n"
          ]
        }
      ],
      "source": [
        "d2 = squareform(pdist(x, 'euclidean'))\n",
        "print(d2)"
      ]
    },
    {
      "cell_type": "markdown",
      "metadata": {
        "id": "y2AhWWsseab8"
      },
      "source": [
        "# Matplotlib and Seaborn\n"
      ]
    },
    {
      "cell_type": "markdown",
      "metadata": {
        "id": "xWm68fiheab8"
      },
      "source": [
        "## Plotting"
      ]
    },
    {
      "cell_type": "code",
      "execution_count": null,
      "metadata": {
        "ExecuteTime": {
          "end_time": "2020-02-10T14:33:20.072294Z",
          "start_time": "2020-02-10T14:33:19.214754Z"
        },
        "id": "LMW8qVRPeab8",
        "colab": {
          "base_uri": "https://localhost:8080/",
          "height": 430
        },
        "outputId": "a097f5c7-4083-4841-b27f-1fad995b021f"
      },
      "outputs": [
        {
          "output_type": "display_data",
          "data": {
            "text/plain": [
              "<Figure size 640x480 with 1 Axes>"
            ],
            "image/png": "[encoded data removed]"
          },
          "metadata": {}
        }
      ],
      "source": [
        "import matplotlib.pyplot as plt\n",
        "\n",
        "x = np.arange(0, 3 * np.pi, 0.1)\n",
        "y = np.sin(x)\n",
        "\n",
        "plt.plot(x, y)\n",
        "plt.show()"
      ]
    },
    {
      "cell_type": "code",
      "execution_count": null,
      "metadata": {
        "ExecuteTime": {
          "end_time": "2020-02-10T14:33:24.594991Z",
          "start_time": "2020-02-10T14:33:24.348650Z"
        },
        "id": "SAA9LuZ-eab8",
        "colab": {
          "base_uri": "https://localhost:8080/",
          "height": 472
        },
        "outputId": "b7750c3d-a64d-49a5-a66f-f9e602fcdb05"
      },
      "outputs": [
        {
          "output_type": "display_data",
          "data": {
            "text/plain": [
              "<Figure size 640x480 with 1 Axes>"
            ],
            "image/png": "[encoded data removed]"
          },
          "metadata": {}
        }
      ],
      "source": [
        "x = np.arange(0, 3 * np.pi, 0.1)\n",
        "y_sin = np.sin(x)\n",
        "y_cos = np.cos(x)\n",
        "\n",
        "plt.plot(x, y_sin)\n",
        "plt.plot(x, y_cos)\n",
        "plt.xlabel('x axis label')\n",
        "plt.ylabel('y axis label')\n",
        "plt.title('Sine and Cosine')\n",
        "plt.legend(['Sine', 'Cosine'])\n",
        "plt.show()"
      ]
    },
    {
      "cell_type": "markdown",
      "metadata": {
        "id": "e0UhwEe5eab9"
      },
      "source": [
        "## Subplots"
      ]
    },
    {
      "cell_type": "markdown",
      "source": [
        "Subplots very useful in Notebooks."
      ],
      "metadata": {
        "id": "BCUjRIl3ACHU"
      }
    },
    {
      "cell_type": "code",
      "execution_count": null,
      "metadata": {
        "ExecuteTime": {
          "end_time": "2020-02-10T14:34:17.290689Z",
          "start_time": "2020-02-10T14:34:17.286700Z"
        },
        "id": "Qi2Pl_AWeab9"
      },
      "outputs": [],
      "source": [
        "x = np.arange(0, 3 * np.pi, 0.1)\n",
        "y_sin = np.sin(x)\n",
        "y_cos = np.cos(x)"
      ]
    },
    {
      "cell_type": "code",
      "execution_count": null,
      "metadata": {
        "ExecuteTime": {
          "end_time": "2020-02-10T14:34:18.037371Z",
          "start_time": "2020-02-10T14:34:17.689812Z"
        },
        "id": "HouoYAC2eab9",
        "colab": {
          "base_uri": "https://localhost:8080/",
          "height": 470
        },
        "outputId": "fdf4a097-15f0-4c27-a28c-966434e7eb44"
      },
      "outputs": [
        {
          "output_type": "execute_result",
          "data": {
            "text/plain": [
              "Text(0.5, 1.0, 'Cosine')"
            ]
          },
          "metadata": {},
          "execution_count": 191
        },
        {
          "output_type": "display_data",
          "data": {
            "text/plain": [
              "<Figure size 640x480 with 2 Axes>"
            ],
            "image/png": "[encoded data removed]"
          },
          "metadata": {}
        }
      ],
      "source": [
        "fig, ax = plt.subplots(2,1)\n",
        "\n",
        "ax[0].plot(x, y_sin)\n",
        "ax[0].set_title('Sine')\n",
        "\n",
        "ax[1].plot(x, y_cos)\n",
        "ax[1].set_title('Cosine')"
      ]
    },
    {
      "cell_type": "markdown",
      "metadata": {
        "id": "vabVfx5Oeab9"
      },
      "source": [
        "## Seaborn"
      ]
    },
    {
      "cell_type": "code",
      "execution_count": null,
      "metadata": {
        "ExecuteTime": {
          "end_time": "2020-02-10T14:35:22.170860Z",
          "start_time": "2020-02-10T14:35:17.520153Z"
        },
        "id": "2lq2CtFqeab9"
      },
      "outputs": [],
      "source": [
        "import seaborn as sns"
      ]
    },
    {
      "cell_type": "code",
      "execution_count": null,
      "metadata": {
        "ExecuteTime": {
          "end_time": "2020-02-10T14:35:22.201775Z",
          "start_time": "2020-02-10T14:35:22.171853Z"
        },
        "id": "IjmONjAheab9"
      },
      "outputs": [],
      "source": [
        "tips = sns.load_dataset('tips')"
      ]
    },
    {
      "cell_type": "code",
      "execution_count": null,
      "metadata": {
        "ExecuteTime": {
          "end_time": "2020-02-10T14:35:22.822117Z",
          "start_time": "2020-02-10T14:35:22.205772Z"
        },
        "id": "EKB_ARFCeab9",
        "colab": {
          "base_uri": "https://localhost:8080/",
          "height": 525
        },
        "outputId": "e356afce-4523-4ccb-ca23-23905a1422a9"
      },
      "outputs": [
        {
          "output_type": "execute_result",
          "data": {
            "text/plain": [
              "<seaborn.axisgrid.FacetGrid at 0x7fef8fe646d0>"
            ]
          },
          "metadata": {},
          "execution_count": 194
        },
        {
          "output_type": "display_data",
          "data": {
            "text/plain": [
              "<Figure size 558.875x500 with 1 Axes>"
            ],
            "image/png": "[encoded data removed]"
          },
          "metadata": {}
        }
      ],
      "source": [
        "sns.relplot(x=\"total_bill\", y=\"tip\", hue=\"size\", data=tips)"
      ]
    },
    {
      "cell_type": "code",
      "execution_count": null,
      "metadata": {
        "ExecuteTime": {
          "end_time": "2020-02-10T14:35:23.397218Z",
          "start_time": "2020-02-10T14:35:22.825109Z"
        },
        "id": "CIrygZapeab9",
        "colab": {
          "base_uri": "https://localhost:8080/",
          "height": 525
        },
        "outputId": "eb53ee82-eadb-417c-eea2-60105b2c94fe"
      },
      "outputs": [
        {
          "output_type": "execute_result",
          "data": {
            "text/plain": [
              "<seaborn.axisgrid.FacetGrid at 0x7fef8fec1290>"
            ]
          },
          "metadata": {},
          "execution_count": 195
        },
        {
          "output_type": "display_data",
          "data": {
            "text/plain": [
              "<Figure size 558.875x500 with 1 Axes>"
            ],
            "image/png": "[encoded data removed]"
          },
          "metadata": {}
        }
      ],
      "source": [
        "sns.relplot(x=\"total_bill\", y=\"tip\", size=\"size\", sizes=(15, 200), data=tips)"
      ]
    },
    {
      "cell_type": "code",
      "execution_count": null,
      "metadata": {
        "ExecuteTime": {
          "end_time": "2020-02-10T14:35:24.740489Z",
          "start_time": "2020-02-10T14:35:23.400209Z"
        },
        "id": "xNBAfFpxeab9",
        "colab": {
          "base_uri": "https://localhost:8080/",
          "height": 525
        },
        "outputId": "012f8acc-d010-4b53-de20-bcbc54bb67df"
      },
      "outputs": [
        {
          "output_type": "execute_result",
          "data": {
            "text/plain": [
              "<seaborn.axisgrid.FacetGrid at 0x7fef901bfcd0>"
            ]
          },
          "metadata": {},
          "execution_count": 196
        },
        {
          "output_type": "display_data",
          "data": {
            "text/plain": [
              "<Figure size 500x500 with 1 Axes>"
            ],
            "image/png": "[encoded data removed]"
          },
          "metadata": {}
        }
      ],
      "source": [
        "fmri = sns.load_dataset(\"fmri\")\n",
        "sns.relplot(x=\"timepoint\", y=\"signal\", kind=\"line\", data=fmri)"
      ]
    },
    {
      "cell_type": "markdown",
      "metadata": {
        "id": "X6_9P-7ieab9"
      },
      "source": [
        "Seaborn example [gallery](https://seaborn.pydata.org/examples/index.html). There are other good plotting libraries like [bokeh](https://docs.bokeh.org/en/latest/docs/gallery.html) or [plotly](https://plot.ly/)."
      ]
    },
    {
      "cell_type": "code",
      "execution_count": null,
      "metadata": {
        "id": "DDqPKlzaeab9"
      },
      "outputs": [],
      "source": []
    }
  ],
  "metadata": {
    "kernelspec": {
      "display_name": "Python 3",
      "language": "python",
      "name": "python3"
    },
    "language_info": {
      "codemirror_mode": {
        "name": "ipython",
        "version": 3
      },
      "file_extension": ".py",
      "mimetype": "text/x-python",
      "name": "python",
      "nbconvert_exporter": "python",
      "pygments_lexer": "ipython3",
      "version": "3.8.3"
    },
    "toc": {
      "base_numbering": 1,
      "nav_menu": {},
      "number_sections": true,
      "sideBar": true,
      "skip_h1_title": false,
      "title_cell": "Table of Contents",
      "title_sidebar": "Contents",
      "toc_cell": false,
      "toc_position": {
        "height": "calc(100% - 180px)",
        "left": "10px",
        "top": "150px",
        "width": "276.8px"
      },
      "toc_section_display": true,
      "toc_window_display": true
    },
    "varInspector": {
      "cols": {
        "lenName": 16,
        "lenType": 16,
        "lenVar": "160"
      },
      "kernels_config": {
        "python": {
          "delete_cmd_postfix": "",
          "delete_cmd_prefix": "del ",
          "library": "var_list.py",
          "varRefreshCmd": "print(var_dic_list())"
        },
        "r": {
          "delete_cmd_postfix": ") ",
          "delete_cmd_prefix": "rm(",
          "library": "var_list.r",
          "varRefreshCmd": "cat(var_dic_list()) "
        }
      },
      "types_to_exclude": [
        "module",
        "function",
        "builtin_function_or_method",
        "instance",
        "_Feature"
      ],
      "window_display": false
    },
    "colab": {
      "provenance": [],
      "toc_visible": true,
      "include_colab_link": true
    }
  },
  "nbformat": 4,
  "nbformat_minor": 0
}